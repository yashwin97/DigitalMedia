{
 "cells": [
  {
   "cell_type": "code",
   "execution_count": 45,
   "metadata": {},
   "outputs": [],
   "source": [
    "import mysql.connector\n",
    "from textblob import TextBlob\n",
    "import re\n",
    "import csv"
   ]
  },
  {
   "cell_type": "code",
   "execution_count": 64,
   "metadata": {},
   "outputs": [],
   "source": [
    "cnx = mysql.connector.connect(user='root',password='Pyrex360',host='127.0.0.1',database='glastonbury')\n"
   ]
  },
  {
   "cell_type": "code",
   "execution_count": 65,
   "metadata": {},
   "outputs": [],
   "source": [
    "#query = (\"SELECT id, tweet, rtCount, hashtags, createdAt FROM sochi22_tf\")\n",
    "#query = (\"SELECT id, tweet, rtCount, hashtags, createdAt FROM sochi22_bl\")\n",
    "#query = (\"SELECT id, tweet, rtCount, hashtags, createdAt FROM sochi22_extra\")\n",
    "\n",
    "query = (\"SELECT id, tweet, rtCount, hashtags, createdAt FROM glaston29_extra\")\n",
    "\n",
    "cursor = cnx.cursor()\n",
    "cursor.execute(query)"
   ]
  },
  {
   "cell_type": "code",
   "execution_count": 66,
   "metadata": {},
   "outputs": [
    {
     "data": {
      "text/plain": [
       "482304"
      ]
     },
     "execution_count": 66,
     "metadata": {},
     "output_type": "execute_result"
    }
   ],
   "source": [
    "AD = {}\n",
    "row = cursor.fetchone()\n",
    "while row is not None:\n",
    "    words = re.findall(r'\\w{2,}',row[1])\n",
    "    hashtags = set(row[3].split(\" \"))\n",
    "    for hashtag in hashtags:\n",
    "        if hashtag == '':\n",
    "            continue\n",
    "        for word in words:\n",
    "            word = word.lower()\n",
    "            hashtag = hashtag.lower()\n",
    "            if hashtag == word:\n",
    "                count = row[1].count(hashtag)\n",
    "                if not count > 1:\n",
    "                    continue\n",
    "            key = hashtag + \" \" + word\n",
    "            if key in AD:\n",
    "                AD[key] += 1\n",
    "            else:\n",
    "                AD[key] = 1\n",
    "    row = cursor.fetchone()\n",
    "len(AD)"
   ]
  },
  {
   "cell_type": "code",
   "execution_count": 67,
   "metadata": {},
   "outputs": [],
   "source": [
    "with open(\"./glaston_EX_full.csv\",'w',encoding=\"utf-8\") as f:\n",
    "    writer = csv.writer(f, delimiter='\\t')\n",
    "    for k,v in AD.items():\n",
    "        d = k.split(\" \")\n",
    "        writer.writerow([d[0],d[1],str(v)])\n"
   ]
  },
  {
   "cell_type": "code",
   "execution_count": null,
   "metadata": {},
   "outputs": [],
   "source": []
  }
 ],
 "metadata": {
  "kernelspec": {
   "display_name": "myenv",
   "language": "python",
   "name": "myenv"
  },
  "language_info": {
   "codemirror_mode": {
    "name": "ipython",
    "version": 3
   },
   "file_extension": ".py",
   "mimetype": "text/x-python",
   "name": "python",
   "nbconvert_exporter": "python",
   "pygments_lexer": "ipython3",
   "version": "3.7.7"
  }
 },
 "nbformat": 4,
 "nbformat_minor": 4
}
