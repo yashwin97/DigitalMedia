{
 "cells": [
  {
   "cell_type": "code",
   "execution_count": 1,
   "metadata": {},
   "outputs": [],
   "source": [
    "import numpy as np\n",
    "import pandas as pd\n",
    "%matplotlib inline\n",
    "import matplotlib.pyplot as plt\n",
    "import seaborn as sns\n",
    "import networkx as nx\n",
    "from nltk.corpus import wordnet\n",
    "from networkx.algorithms import community\n",
    "from networkx.algorithms.community import greedy_modularity_communities, asyn_fluidc"
   ]
  },
  {
   "cell_type": "code",
   "execution_count": 2,
   "metadata": {},
   "outputs": [],
   "source": [
    "from IPython.core.interactiveshell import InteractiveShell\n",
    "InteractiveShell.ast_node_interactivity = \"last_expr\""
   ]
  },
  {
   "cell_type": "code",
   "execution_count": 3,
   "metadata": {},
   "outputs": [
    {
     "data": {
      "text/plain": [
       "<_io.TextIOWrapper name='sochiAD.csv' mode='r' encoding='cp1252'>"
      ]
     },
     "execution_count": 3,
     "metadata": {},
     "output_type": "execute_result"
    }
   ],
   "source": [
    "open('sochiAD.csv')\n",
    "#open('sochiBL.csv')\n",
    "#open('sochiEX.csv')"
   ]
  },
  {
   "cell_type": "code",
   "execution_count": 4,
   "metadata": {},
   "outputs": [],
   "source": [
    "import codecs\n",
    "with codecs.open(\"sochiAD.csv\", \"r\",encoding='utf-8', errors='ignore') as file_data:\n",
    "     sochiAD_raw = pd.read_csv(file_data)"
   ]
  },
  {
   "cell_type": "code",
   "execution_count": 5,
   "metadata": {},
   "outputs": [],
   "source": [
    "sochiAD_raw['source'] = sochiAD_raw.source.astype(str)\n",
    "sochiAD_raw['target'] = sochiAD_raw.target.astype(str)\n",
    "#sochiBL_raw['source'] = sochiBL_raw.source.astype(str)\n",
    "#sochiBL_raw['target'] = sochiBL_raw.target.astype(str)\n",
    "#sochiEX_raw['source'] = sochiEX_raw.source.astype(str)\n",
    "#sochiEX_raw['target'] = sochiEX_raw.target.astype(str)"
   ]
  },
  {
   "cell_type": "code",
   "execution_count": 6,
   "metadata": {},
   "outputs": [],
   "source": [
    "sochiAD_raw['source'] = sochiAD_raw['source'].apply(lambda x:x.lower())\n",
    "sochiAD_raw['target'] = sochiAD_raw['target'].apply(lambda x:x.lower())"
   ]
  },
  {
   "cell_type": "code",
   "execution_count": 7,
   "metadata": {},
   "outputs": [
    {
     "data": {
      "text/html": [
       "<div>\n",
       "<style scoped>\n",
       "    .dataframe tbody tr th:only-of-type {\n",
       "        vertical-align: middle;\n",
       "    }\n",
       "\n",
       "    .dataframe tbody tr th {\n",
       "        vertical-align: top;\n",
       "    }\n",
       "\n",
       "    .dataframe thead th {\n",
       "        text-align: right;\n",
       "    }\n",
       "</style>\n",
       "<table border=\"1\" class=\"dataframe\">\n",
       "  <thead>\n",
       "    <tr style=\"text-align: right;\">\n",
       "      <th></th>\n",
       "      <th>source</th>\n",
       "      <th>target</th>\n",
       "      <th>weight</th>\n",
       "    </tr>\n",
       "  </thead>\n",
       "  <tbody>\n",
       "    <tr>\n",
       "      <th>0</th>\n",
       "      <td>14-feb</td>\n",
       "      <td>un</td>\n",
       "      <td>1.0</td>\n",
       "    </tr>\n",
       "    <tr>\n",
       "      <th>1</th>\n",
       "      <td>14-feb</td>\n",
       "      <td>usa</td>\n",
       "      <td>1.0</td>\n",
       "    </tr>\n",
       "    <tr>\n",
       "      <th>2</th>\n",
       "      <td>14-feb</td>\n",
       "      <td>uk</td>\n",
       "      <td>1.0</td>\n",
       "    </tr>\n",
       "    <tr>\n",
       "      <th>3</th>\n",
       "      <td>14-feb</td>\n",
       "      <td>gcc</td>\n",
       "      <td>1.0</td>\n",
       "    </tr>\n",
       "    <tr>\n",
       "      <th>4</th>\n",
       "      <td>14-feb</td>\n",
       "      <td>humanrights</td>\n",
       "      <td>2.0</td>\n",
       "    </tr>\n",
       "    <tr>\n",
       "      <th>...</th>\n",
       "      <td>...</td>\n",
       "      <td>...</td>\n",
       "      <td>...</td>\n",
       "    </tr>\n",
       "    <tr>\n",
       "      <th>112133</th>\n",
       "      <td>true</td>\n",
       "      <td>gold</td>\n",
       "      <td>1.0</td>\n",
       "    </tr>\n",
       "    <tr>\n",
       "      <th>112134</th>\n",
       "      <td>true</td>\n",
       "      <td>hockey</td>\n",
       "      <td>1.0</td>\n",
       "    </tr>\n",
       "    <tr>\n",
       "      <th>112135</th>\n",
       "      <td>true</td>\n",
       "      <td>gocanadago</td>\n",
       "      <td>1.0</td>\n",
       "    </tr>\n",
       "    <tr>\n",
       "      <th>112136</th>\n",
       "      <td>true</td>\n",
       "      <td>teamcanada</td>\n",
       "      <td>1.0</td>\n",
       "    </tr>\n",
       "    <tr>\n",
       "      <th>112137</th>\n",
       "      <td>true</td>\n",
       "      <td>wearewinter</td>\n",
       "      <td>1.0</td>\n",
       "    </tr>\n",
       "  </tbody>\n",
       "</table>\n",
       "<p>112137 rows × 3 columns</p>\n",
       "</div>"
      ],
      "text/plain": [
       "        source       target  weight\n",
       "0       14-feb           un     1.0\n",
       "1       14-feb          usa     1.0\n",
       "2       14-feb           uk     1.0\n",
       "3       14-feb          gcc     1.0\n",
       "4       14-feb  humanrights     2.0\n",
       "...        ...          ...     ...\n",
       "112133    true         gold     1.0\n",
       "112134    true       hockey     1.0\n",
       "112135    true   gocanadago     1.0\n",
       "112136    true   teamcanada     1.0\n",
       "112137    true  wearewinter     1.0\n",
       "\n",
       "[112137 rows x 3 columns]"
      ]
     },
     "execution_count": 7,
     "metadata": {},
     "output_type": "execute_result"
    }
   ],
   "source": [
    "sochiAD_raw.dropna()\n",
    "\n",
    "#df_sochi_bl.dropna()\n",
    "#df_sochi_ex.dropna()"
   ]
  },
  {
   "cell_type": "code",
   "execution_count": 8,
   "metadata": {},
   "outputs": [],
   "source": [
    "sochiAD_raw.shape\n",
    "\n",
    "sochi_ad_sample = sochiAD_raw.sample(n=10000,random_state=1)"
   ]
  },
  {
   "cell_type": "code",
   "execution_count": 9,
   "metadata": {},
   "outputs": [],
   "source": [
    "for index, row in sochi_ad_sample.iterrows():\n",
    "    if not wordnet.synsets(row['source']):\n",
    "        sochi_ad_sample.drop(index,inplace=True)\n",
    "    elif not wordnet.synsets(row['target']):\n",
    "        sochi_ad_sample.drop(index,inplace=True)"
   ]
  },
  {
   "cell_type": "code",
   "execution_count": 10,
   "metadata": {},
   "outputs": [],
   "source": [
    "G_s_ad = nx.from_pandas_edgelist(sochi_ad_sample,'source','target','weight')"
   ]
  },
  {
   "cell_type": "code",
   "execution_count": 11,
   "metadata": {},
   "outputs": [],
   "source": [
    "c = list(greedy_modularity_communities(G_s_ad))"
   ]
  },
  {
   "cell_type": "code",
   "execution_count": 12,
   "metadata": {},
   "outputs": [],
   "source": [
    "nx.write_gexf(G_s_ad, \"test.gexf\")"
   ]
  },
  {
   "cell_type": "code",
   "execution_count": null,
   "metadata": {},
   "outputs": [],
   "source": []
  },
  {
   "cell_type": "code",
   "execution_count": 13,
   "metadata": {},
   "outputs": [],
   "source": [
    "#create dict with nodes as key and degree as value\n",
    "degree_dict_AD = dict(G_s_ad.degree(G_s_ad.nodes()))\n",
    "nx.set_node_attributes(G_s_ad, degree_dict_AD, 'degree')\n",
    "#degree_dict_AD"
   ]
  },
  {
   "cell_type": "code",
   "execution_count": 15,
   "metadata": {},
   "outputs": [],
   "source": [
    "# dict with nodes and degree sorted\n",
    "from operator import itemgetter\n",
    "sorted_degree_AD = sorted(degree_dict_AD.items(), key=itemgetter(1), reverse=True)\n",
    "#sorted_degree_AD"
   ]
  },
  {
   "cell_type": "code",
   "execution_count": 16,
   "metadata": {},
   "outputs": [
    {
     "name": "stdout",
     "output_type": "stream",
     "text": [
      "Top 100 nodes by degree:\n"
     ]
    }
   ],
   "source": [
    "print(\"Top 100 nodes by degree:\")\n",
    "#for d in sorted_degree_AD[:100]:\n",
    "    #print(d)"
   ]
  },
  {
   "cell_type": "code",
   "execution_count": 18,
   "metadata": {},
   "outputs": [
    {
     "name": "stdout",
     "output_type": "stream",
     "text": [
      "Name: \n",
      "Type: Graph\n",
      "Number of nodes: 1474\n",
      "Number of edges: 1970\n",
      "Average degree:   2.6730\n"
     ]
    }
   ],
   "source": [
    "print(nx.info(G_s_ad))"
   ]
  },
  {
   "cell_type": "code",
   "execution_count": 19,
   "metadata": {},
   "outputs": [
    {
     "name": "stdout",
     "output_type": "stream",
     "text": [
      "Name: \n",
      "Type: Graph\n",
      "Number of nodes: 1474\n",
      "Number of edges: 1971\n",
      "Average degree:   2.6744\n"
     ]
    }
   ],
   "source": [
    "ER1= nx.erdos_renyi_graph(1474,0.00184,seed=1) \n",
    "#nx.draw(ER1, with_labels=True) \n",
    "#plt.show()\n",
    "print(nx.info(ER1))"
   ]
  },
  {
   "cell_type": "code",
   "execution_count": 20,
   "metadata": {},
   "outputs": [
    {
     "name": "stdout",
     "output_type": "stream",
     "text": [
      "Name: \n",
      "Type: Graph\n",
      "Number of nodes: 1474\n",
      "Number of edges: 1976\n",
      "Average degree:   2.6811\n"
     ]
    }
   ],
   "source": [
    "ER2= nx.erdos_renyi_graph(1474,0.00181,seed=2) \n",
    "#nx.draw(ER2, with_labels=True) \n",
    "#plt.show()\n",
    "print(nx.info(ER2))"
   ]
  },
  {
   "cell_type": "code",
   "execution_count": 21,
   "metadata": {},
   "outputs": [
    {
     "name": "stdout",
     "output_type": "stream",
     "text": [
      "Name: \n",
      "Type: Graph\n",
      "Number of nodes: 1474\n",
      "Number of edges: 1973\n",
      "Average degree:   2.6771\n"
     ]
    }
   ],
   "source": [
    "ER3= nx.erdos_renyi_graph(1474,0.001918,seed=3) \n",
    "#nx.draw(ER3, with_labels=True) \n",
    "#plt.show()\n",
    "print(nx.info(ER3))"
   ]
  },
  {
   "cell_type": "code",
   "execution_count": 23,
   "metadata": {},
   "outputs": [],
   "source": [
    "degree_sequence_AD = sorted(G_s_ad.degree(), key=lambda x: x[1], reverse=True)\n",
    "#degree_sequence_AD\n"
   ]
  },
  {
   "cell_type": "code",
   "execution_count": 26,
   "metadata": {},
   "outputs": [],
   "source": [
    "degree_sequence_ER1 = sorted(ER1.degree(), key=lambda x: x[1], reverse=True)\n",
    "#degree_sequence_ER1\n",
    "degree_sequence_ER2 = sorted(ER2.degree(), key=lambda x: x[1], reverse=True)\n",
    "#degree_sequence_ER2\n",
    "degree_sequence_ER3 = sorted(ER3.degree(), key=lambda x: x[1], reverse=True)\n",
    "#degree_sequence_ER3\n",
    "\n"
   ]
  },
  {
   "cell_type": "code",
   "execution_count": 91,
   "metadata": {},
   "outputs": [],
   "source": [
    "Degree_list_AD=[]\n",
    "Degree_list_ER1=[]\n",
    "Degree_list_ER2=[]\n",
    "Degree_list_ER3=[]\n",
    "for c in degree_sequence_AD:\n",
    "    Degree_list_AD.append(c[1])\n",
    "for c in degree_sequence_ER1:\n",
    "    Degree_list_ER1.append(c[1])    \n",
    "for c in degree_sequence_ER2:\n",
    "    Degree_list_ER2.append(c[1])\n",
    "for c in degree_sequence_ER3:\n",
    "    Degree_list_ER3.append(c[1])     "
   ]
  },
  {
   "cell_type": "code",
   "execution_count": 89,
   "metadata": {},
   "outputs": [],
   "source": [
    "AD=[]\n",
    "ER1=[]\n",
    "for i in baseAD:\n",
    "    AD.append(Degree_list_AD.count(i))\n",
    "    \n",
    "for i in baseER1 :\n",
    "    ER1.append(Degree_list_ER1.count(i)) \n",
    "    \n",
    "baseAD=[114,100,97,66,60,52,41,35,30,25,21,19,18,17,16,15,14,13,12,11,10,9,8,7,6,5,4,3,2,1,0]\n",
    "baseER1=[10,8,7,6,5,4,3,2,1,0]"
   ]
  },
  {
   "cell_type": "code",
   "execution_count": 90,
   "metadata": {},
   "outputs": [
    {
     "data": {
      "image/png": "[encoded data removed]",
      "text/plain": [
       "<Figure size 432x288 with 2 Axes>"
      ]
     },
     "metadata": {
      "needs_background": "light"
     },
     "output_type": "display_data"
    }
   ],
   "source": [
    "plt.suptitle('Degree distribution in Sochi_AD and ER')\n",
    "plt.subplot(121)\n",
    "plt.plot(baseAD,AD ,'r*--', linewidth=1)\n",
    "plt.xlabel ('degrees',fontsize=10)\n",
    "plt.ylabel('frequency',fontsize=10)\n",
    "plt.grid(True)\n",
    "plt.subplot(122)\n",
    "plt.plot(baseER1,ER1, 'b*--', linewidth=1)\n",
    "plt.tick_params(axis='both',labelsize=10)\n",
    "plt.grid(True)\n",
    "plt.show()\n"
   ]
  },
  {
   "cell_type": "code",
   "execution_count": 571,
   "metadata": {},
   "outputs": [],
   "source": [
    "degree_sequence_ER2 = sorted(ER2.degree(), key=lambda x: x[1], reverse=True)\n",
    "#degree_sequence_ER2"
   ]
  },
  {
   "cell_type": "code",
   "execution_count": 572,
   "metadata": {},
   "outputs": [],
   "source": [
    "degree_sequence_ER3 = sorted(ER3.degree(), key=lambda x: x[1], reverse=True)\n",
    "#degree_sequence_ER3"
   ]
  },
  {
   "cell_type": "code",
   "execution_count": 573,
   "metadata": {},
   "outputs": [
    {
     "name": "stdout",
     "output_type": "stream",
     "text": [
      "0.037943014585357954\n"
     ]
    }
   ],
   "source": [
    "# Clustering coefficient of all nodes (in a dictionary) \n",
    "clust_coefficients = nx.clustering(G_s_ad)\n",
    "# Or use directly the built-in method\n",
    "print (nx.average_clustering(G_s_ad))\n"
   ]
  },
  {
   "cell_type": "code",
   "execution_count": 574,
   "metadata": {},
   "outputs": [
    {
     "name": "stdout",
     "output_type": "stream",
     "text": [
      "0.00012437810945273634\n"
     ]
    }
   ],
   "source": [
    "# Clustering coefficient of all nodes (in a dictionary) \n",
    "clust_coefficients_ER1 = nx.clustering(ER1)\n",
    "# Or use directly the built-in method\n",
    "print (nx.average_clustering(ER1))"
   ]
  },
  {
   "cell_type": "code",
   "execution_count": 575,
   "metadata": {},
   "outputs": [
    {
     "name": "stdout",
     "output_type": "stream",
     "text": [
      "0.0018656716417910452\n"
     ]
    }
   ],
   "source": [
    "# Clustering coefficient of all nodes (in a dictionary) \n",
    "clust_coefficients_ER2 = nx.clustering(ER2)\n",
    "# Or use directly the built-in method\n",
    "print (nx.average_clustering(ER2))"
   ]
  },
  {
   "cell_type": "code",
   "execution_count": 576,
   "metadata": {},
   "outputs": [
    {
     "name": "stdout",
     "output_type": "stream",
     "text": [
      "0.0021354267622924338\n"
     ]
    }
   ],
   "source": [
    "# Clustering coefficient of all nodes (in a dictionary) \n",
    "clust_coefficients_ER3 = nx.clustering(ER3)\n",
    "# Or use directly the built-in method\n",
    "print (nx.average_clustering(ER3))"
   ]
  },
  {
   "cell_type": "code",
   "execution_count": 577,
   "metadata": {},
   "outputs": [
    {
     "name": "stdout",
     "output_type": "stream",
     "text": [
      "0.0013751588378454048\n"
     ]
    }
   ],
   "source": [
    "print((nx.average_clustering(ER1)+nx.average_clustering(ER2)+nx.average_clustering(ER3))/3)"
   ]
  },
  {
   "cell_type": "code",
   "execution_count": 578,
   "metadata": {},
   "outputs": [
    {
     "name": "stdout",
     "output_type": "stream",
     "text": [
      "Average of pagerank for AD_real 0.0006784260515603843\n"
     ]
    }
   ],
   "source": [
    "a=nx.pagerank(G_s_ad, alpha=0.9)\n",
    "s = sorted(a.items(), key=lambda x: x[1], reverse=True)\n",
    "\n",
    "#for k, v in s:\n",
    "   # print(k, v)\n",
    "#average of pagerank for real AD network\n",
    "p=0\n",
    "for d in a.values():\n",
    "    p=p+d\n",
    "print('Average of pagerank for AD_real',p/len(a))     "
   ]
  },
  {
   "cell_type": "code",
   "execution_count": 579,
   "metadata": {},
   "outputs": [
    {
     "name": "stdout",
     "output_type": "stream",
     "text": [
      "Average of pagerank for AD_ER1 0.0006784260515603843\n"
     ]
    }
   ],
   "source": [
    "b1=nx.pagerank(ER1, alpha=0.9)\n",
    "d1= sorted(b1.items(), key=lambda x: x[1], reverse=True)\n",
    "\n",
    "#for k, v in d:\n",
    "    #print(k, v)\n",
    "#average of pagerank for real AD network\n",
    "p1=0\n",
    "for d in a.values():\n",
    "    p1=p1+d\n",
    "AvePageRank_ER1= p1/len(b1)   \n",
    "print('Average of pagerank for AD_ER1',AvePageRank_ER1)     "
   ]
  },
  {
   "cell_type": "code",
   "execution_count": 580,
   "metadata": {},
   "outputs": [
    {
     "name": "stdout",
     "output_type": "stream",
     "text": [
      "Average of pagerank for AD_ER2 0.0006784260515603843\n"
     ]
    }
   ],
   "source": [
    "b2=nx.pagerank(ER2, alpha=0.9)\n",
    "d2 = sorted(b2.items(), key=lambda x: x[1], reverse=True)\n",
    "\n",
    "#for k, v in d:\n",
    "    #print(k, v)\n",
    "#average of pagerank for real AD network\n",
    "p2=0\n",
    "for d in a.values():\n",
    "    p2=p2+d\n",
    "AvePageRank_ER2= p2/len(b2)   \n",
    "print('Average of pagerank for AD_ER2',AvePageRank_ER2) "
   ]
  },
  {
   "cell_type": "code",
   "execution_count": 581,
   "metadata": {},
   "outputs": [
    {
     "name": "stdout",
     "output_type": "stream",
     "text": [
      "Average of pagerank for AD_ER3 0.0006784260515603801\n"
     ]
    }
   ],
   "source": [
    "b3=nx.pagerank(ER3, alpha=0.9)\n",
    "d3 = sorted(b3.items(), key=lambda x: x[1], reverse=True)\n",
    "\n",
    "#for k, v in d:\n",
    "    #print(k, v)\n",
    "#average of pagerank for real AD network\n",
    "p3=0\n",
    "for d in b3.values():\n",
    "    p3=p3+d\n",
    "AvePageRank_ER3= p3/len(b3)   \n",
    "print('Average of pagerank for AD_ER3',AvePageRank_ER3)  "
   ]
  },
  {
   "cell_type": "code",
   "execution_count": 582,
   "metadata": {},
   "outputs": [
    {
     "name": "stdout",
     "output_type": "stream",
     "text": [
      "0.0006784260515603829\n"
     ]
    }
   ],
   "source": [
    "print((AvePageRank_ER3+AvePageRank_ER2+AvePageRank_ER1)/3)"
   ]
  },
  {
   "cell_type": "code",
   "execution_count": 583,
   "metadata": {},
   "outputs": [
    {
     "name": "stdout",
     "output_type": "stream",
     "text": [
      "Network density for AD: 0.0018146630299714168\n"
     ]
    }
   ],
   "source": [
    "density = nx.density(G_s_ad)\n",
    "print(\"Network density for AD:\", density)"
   ]
  },
  {
   "cell_type": "code",
   "execution_count": 584,
   "metadata": {},
   "outputs": [
    {
     "name": "stdout",
     "output_type": "stream",
     "text": [
      "Network density for erdos : 0.001815584178717595\n"
     ]
    }
   ],
   "source": [
    "density1 = nx.density(ER1)\n",
    "print(\"Network density for ER1 :\", density1)"
   ]
  },
  {
   "cell_type": "code",
   "execution_count": 585,
   "metadata": {},
   "outputs": [
    {
     "name": "stdout",
     "output_type": "stream",
     "text": [
      "Network density for erdos : 0.001820189922448487\n"
     ]
    }
   ],
   "source": [
    "density2 = nx.density(ER2)\n",
    "print(\"Network density for ER2 :\", density2)"
   ]
  },
  {
   "cell_type": "code",
   "execution_count": 586,
   "metadata": {},
   "outputs": [
    {
     "name": "stdout",
     "output_type": "stream",
     "text": [
      "Network density for erdos : 0.001817426476209952\n"
     ]
    }
   ],
   "source": [
    "density3 = nx.density(ER3)\n",
    "print(\"Network density for ER3 :\", density3)"
   ]
  },
  {
   "cell_type": "code",
   "execution_count": 587,
   "metadata": {},
   "outputs": [
    {
     "name": "stdout",
     "output_type": "stream",
     "text": [
      "0.001817426476209952\n"
     ]
    }
   ],
   "source": [
    "#Average density for three ERs\n",
    "print((density3+density3+density3)/3)"
   ]
  },
  {
   "cell_type": "code",
   "execution_count": 588,
   "metadata": {},
   "outputs": [
    {
     "name": "stdout",
     "output_type": "stream",
     "text": [
      "number of connected component in G_s_ad 103\n",
      "length of largest component 1237\n"
     ]
    }
   ],
   "source": [
    "# nx.connected_components to get the list of components,\n",
    "# then use the max() command to find the largest one:\n",
    "components = nx.connected_components(G_s_ad)\n",
    "largest_component = max(components, key=len)\n",
    "#largest_component\n",
    "components\n",
    "# returns number of different connected components \n",
    "print('number of connected component in G_s_ad',nx.number_connected_components(G_s_ad)) \n",
    "print('length of largest component',len(largest_component))"
   ]
  },
  {
   "cell_type": "code",
   "execution_count": 589,
   "metadata": {},
   "outputs": [
    {
     "name": "stdout",
     "output_type": "stream",
     "text": [
      "number of connected component in ER1 118\n",
      "length of largest component in ER1 1342\n"
     ]
    }
   ],
   "source": [
    "# nx.connected_components to get the list of components,\n",
    "# then use the max() command to find the largest one:\n",
    "components = nx.connected_components(ER1)\n",
    "largest_component = max(components, key=len)\n",
    "#largest_component\n",
    "components\n",
    "# returns number of different connected components \n",
    "print('number of connected component in ER1',nx.number_connected_components(ER1)) \n",
    "print('length of largest component in ER1',len(largest_component))"
   ]
  },
  {
   "cell_type": "code",
   "execution_count": 590,
   "metadata": {},
   "outputs": [
    {
     "name": "stdout",
     "output_type": "stream",
     "text": [
      "number of connected component in erdos2 113\n",
      "length of largest component in ER2 1345\n"
     ]
    }
   ],
   "source": [
    "# nx.connected_components to get the list of components,\n",
    "# then use the max() command to find the largest one:\n",
    "components = nx.connected_components(ER2)\n",
    "largest_component = max(components, key=len)\n",
    "#largest_component\n",
    "components\n",
    "# returns number of different connected components \n",
    "print('number of connected component in erdos2',nx.number_connected_components(ER2)) \n",
    "print('length of largest component in ER2', len(largest_component))"
   ]
  },
  {
   "cell_type": "code",
   "execution_count": 591,
   "metadata": {},
   "outputs": [
    {
     "name": "stdout",
     "output_type": "stream",
     "text": [
      "number of connected component in erdos3 127\n",
      "length of largest component in ER3 1332\n"
     ]
    }
   ],
   "source": [
    "# nx.connected_components to get the list of components,\n",
    "# then use the max() command to find the largest one:\n",
    "components = nx.connected_components(ER3)\n",
    "largest_component = max(components, key=len)\n",
    "#largest_component\n",
    "components\n",
    "# returns number of different connected components \n",
    "print('number of connected component in erdos3',nx.number_connected_components(ER3)) \n",
    "print('length of largest component in ER3', len(largest_component))"
   ]
  },
  {
   "cell_type": "code",
   "execution_count": null,
   "metadata": {},
   "outputs": [],
   "source": []
  },
  {
   "cell_type": "code",
   "execution_count": null,
   "metadata": {},
   "outputs": [],
   "source": []
  },
  {
   "cell_type": "code",
   "execution_count": null,
   "metadata": {},
   "outputs": [],
   "source": []
  },
  {
   "cell_type": "code",
   "execution_count": 592,
   "metadata": {},
   "outputs": [],
   "source": [
    "def getKeysByValue(dictOfElements, valueToFind):\n",
    "    listOfKeys = list()\n",
    "    listOfItems = dictOfElements.items()\n",
    "    for item  in listOfItems:\n",
    "        if item[1] <= valueToFind:\n",
    "            listOfKeys.append(item[0])\n",
    "    return  listOfKeys\n",
    "\n",
    "   "
   ]
  },
  {
   "cell_type": "code",
   "execution_count": 598,
   "metadata": {},
   "outputs": [],
   "source": [
    "#copy ERs and Sochi_ad\n",
    "G_s_ad_first_remove_nodes = G_s_ad.copy()\n",
    "ER1_first_remove_nodes = ER1.copy()\n",
    "ER2_first_remove_nodes=ER2.copy()\n",
    "ER3_first_remove_nodes=ER3.copy()"
   ]
  },
  {
   "cell_type": "code",
   "execution_count": 599,
   "metadata": {},
   "outputs": [],
   "source": [
    "#create dict from nodes of new graphs\n",
    "degree_dict_New_G_s_ad = dict(G_s_ad_first_remove_nodes.degree(G_s_ad_first_remove_nodes.nodes()))\n",
    "degree_dict_New_ER1 = dict(ER1_first_remove_nodes.degree(ER1_first_remove_nodes.nodes()))\n",
    "degree_dict_New_ER2 = dict(ER2_first_remove_nodes.degree(ER2_first_remove_nodes.nodes()))\n",
    "degree_dict_New_ER3 = dict(ER3_first_remove_nodes.degree(ER3_first_remove_nodes.nodes()))\n"
   ]
  },
  {
   "cell_type": "code",
   "execution_count": 600,
   "metadata": {},
   "outputs": [],
   "source": [
    "sorted_degree_New_AD = sorted(degree_dict_New_G_s_ad.items(), key=itemgetter(1), reverse=True)\n",
    "sorted_degree_New_ER1 = sorted(degree_dict_New_ER1.items(), key=itemgetter(1), reverse=True)\n",
    "sorted_degree_New_ER2 = sorted(degree_dict_New_ER2.items(), key=itemgetter(1), reverse=True)\n",
    "sorted_degree_New_ER3 = sorted(degree_dict_New_ER3.items(), key=itemgetter(1), reverse=True)\n"
   ]
  },
  {
   "cell_type": "code",
   "execution_count": 601,
   "metadata": {},
   "outputs": [],
   "source": [
    "#sorted_degree_New_ER3"
   ]
  },
  {
   "cell_type": "code",
   "execution_count": 602,
   "metadata": {},
   "outputs": [],
   "source": [
    "#Do the removal nodes of new graphs\n",
    "G_s_ad_first_remove_nodes.remove_nodes_from(getKeysByValue(degree_dict_New_G_s_ad,5))\n",
    "ER1_first_remove_nodes.remove_nodes_from(getKeysByValue(degree_dict_New_ER1,5))\n",
    "ER2_first_remove_nodes.remove_nodes_from(getKeysByValue(degree_dict_New_ER2,5))\n",
    "ER3_first_remove_nodes.remove_nodes_from(getKeysByValue(degree_dict_New_ER3,5))"
   ]
  },
  {
   "cell_type": "code",
   "execution_count": 603,
   "metadata": {},
   "outputs": [
    {
     "name": "stdout",
     "output_type": "stream",
     "text": [
      "Name: \n",
      "Type: Graph\n",
      "Number of nodes: 114\n",
      "Number of edges: 306\n",
      "Average degree:   5.3684\n"
     ]
    }
   ],
   "source": [
    "print(nx.info(G_s_ad_first_remove_nodes))"
   ]
  },
  {
   "cell_type": "code",
   "execution_count": 604,
   "metadata": {},
   "outputs": [
    {
     "name": "stdout",
     "output_type": "stream",
     "text": [
      "Name: \n",
      "Type: Graph\n",
      "Number of nodes: 101\n",
      "Number of edges: 60\n",
      "Average degree:   1.1881\n"
     ]
    }
   ],
   "source": [
    "print(nx.info(ER1_first_remove_nodes))"
   ]
  },
  {
   "cell_type": "code",
   "execution_count": 605,
   "metadata": {},
   "outputs": [
    {
     "name": "stdout",
     "output_type": "stream",
     "text": [
      "Name: \n",
      "Type: Graph\n",
      "Number of nodes: 95\n",
      "Number of edges: 47\n",
      "Average degree:   0.9895\n"
     ]
    }
   ],
   "source": [
    "print(nx.info(ER2_first_remove_nodes))"
   ]
  },
  {
   "cell_type": "code",
   "execution_count": 606,
   "metadata": {},
   "outputs": [
    {
     "name": "stdout",
     "output_type": "stream",
     "text": [
      "Name: \n",
      "Type: Graph\n",
      "Number of nodes: 89\n",
      "Number of edges: 41\n",
      "Average degree:   0.9213\n"
     ]
    }
   ],
   "source": [
    "print(nx.info(ER3_first_remove_nodes))"
   ]
  },
  {
   "cell_type": "code",
   "execution_count": 607,
   "metadata": {},
   "outputs": [
    {
     "name": "stdout",
     "output_type": "stream",
     "text": [
      "number of connected component in G_s_ad_first_remove_nodes 1\n",
      "length of largest component in G_s_ad_first_remove_nodes  114\n"
     ]
    }
   ],
   "source": [
    "# nx.connected_components to get the list of components,\n",
    "# then use the max() command to find the largest one:\n",
    "components = nx.connected_components(G_s_ad_first_remove_nodes)\n",
    "largest_component = max(components, key=len)\n",
    "#largest_component\n",
    "components\n",
    "# returns number of different connected components \n",
    "print('number of connected component in G_s_ad_first_remove_nodes',nx.number_connected_components(G_s_ad_first_remove_nodes)) \n",
    "print('length of largest component in G_s_ad_first_remove_nodes ',len(largest_component))"
   ]
  },
  {
   "cell_type": "code",
   "execution_count": 608,
   "metadata": {},
   "outputs": [
    {
     "name": "stdout",
     "output_type": "stream",
     "text": [
      "number of connected component in ER1_first_remove_nodes 41\n",
      "length of largest component in ER1_first_remove_nodes  27\n"
     ]
    }
   ],
   "source": [
    "# nx.connected_components to get the list of components,\n",
    "# then use the max() command to find the largest one:\n",
    "components = nx.connected_components(ER1_first_remove_nodes)\n",
    "largest_component = max(components, key=len)\n",
    "#largest_component\n",
    "components\n",
    "# returns number of different connected components \n",
    "print('number of connected component in ER1_first_remove_nodes',nx.number_connected_components(ER1_first_remove_nodes)) \n",
    "print('length of largest component in ER1_first_remove_nodes ',len(largest_component))"
   ]
  },
  {
   "cell_type": "code",
   "execution_count": 609,
   "metadata": {},
   "outputs": [
    {
     "name": "stdout",
     "output_type": "stream",
     "text": [
      "number of connected component in ER2_first_remove_nodes 48\n",
      "length of largest component in ER2_first_remove_nodes  24\n"
     ]
    }
   ],
   "source": [
    "# nx.connected_components to get the list of components,\n",
    "# then use the max() command to find the largest one:\n",
    "components = nx.connected_components(ER2_first_remove_nodes)\n",
    "largest_component = max(components, key=len)\n",
    "#largest_component\n",
    "components\n",
    "# returns number of different connected components \n",
    "print('number of connected component in ER2_first_remove_nodes',nx.number_connected_components(ER2_first_remove_nodes)) \n",
    "print('length of largest component in ER2_first_remove_nodes ',len(largest_component))"
   ]
  },
  {
   "cell_type": "code",
   "execution_count": 610,
   "metadata": {},
   "outputs": [
    {
     "name": "stdout",
     "output_type": "stream",
     "text": [
      "number of connected component in ER3_first_remove_nodes 48\n",
      "length of largest component in ER3_first_remove_nodes  7\n"
     ]
    }
   ],
   "source": [
    "# nx.connected_components to get the list of components,\n",
    "# then use the max() command to find the largest one:\n",
    "components = nx.connected_components(ER3_first_remove_nodes)\n",
    "largest_component = max(components, key=len)\n",
    "#largest_component\n",
    "components\n",
    "# returns number of different connected components \n",
    "print('number of connected component in ER3_first_remove_nodes',nx.number_connected_components(ER3_first_remove_nodes)) \n",
    "print('length of largest component in ER3_first_remove_nodes ',len(largest_component))"
   ]
  },
  {
   "cell_type": "code",
   "execution_count": 611,
   "metadata": {},
   "outputs": [
    {
     "name": "stdout",
     "output_type": "stream",
     "text": [
      "0.09319623957476326\n"
     ]
    }
   ],
   "source": [
    "print(nx.average_clustering(G_s_ad_first_remove_nodes))"
   ]
  },
  {
   "cell_type": "code",
   "execution_count": 612,
   "metadata": {},
   "outputs": [
    {
     "name": "stdout",
     "output_type": "stream",
     "text": [
      "0.0\n"
     ]
    }
   ],
   "source": [
    "print((nx.average_clustering(ER1_first_remove_nodes)+nx.average_clustering(ER2_first_remove_nodes)+nx.average_clustering(ER3_first_remove_nodes))/3)"
   ]
  },
  {
   "cell_type": "code",
   "execution_count": 613,
   "metadata": {},
   "outputs": [],
   "source": [
    "AD_Nodes=[797,1128,1268,1328,1360,1380,1369]"
   ]
  },
  {
   "cell_type": "code",
   "execution_count": 544,
   "metadata": {},
   "outputs": [],
   "source": [
    "AD_No_Component=[724,881,850,808,758,719,666]"
   ]
  },
  {
   "cell_type": "code",
   "execution_count": 515,
   "metadata": {},
   "outputs": [],
   "source": [
    "AD_Lengh_Component=[2,5,10,12,30,34,90]"
   ]
  },
  {
   "cell_type": "code",
   "execution_count": 516,
   "metadata": {},
   "outputs": [],
   "source": [
    "ER_Nodes=[382,738,1059,1278,1379,1441,1464]"
   ]
  },
  {
   "cell_type": "code",
   "execution_count": 517,
   "metadata": {},
   "outputs": [],
   "source": [
    "ER_No_Component=[371,608,572,294,181,137,123]"
   ]
  },
  {
   "cell_type": "code",
   "execution_count": 518,
   "metadata": {},
   "outputs": [],
   "source": [
    "ER_Lengh_Component=[2,4,21,790,1143,1282,1324]"
   ]
  },
  {
   "cell_type": "code",
   "execution_count": 519,
   "metadata": {},
   "outputs": [
    {
     "data": {
      "text/plain": [
       "<matplotlib.legend.Legend at 0x2e4b967ba48>"
      ]
     },
     "execution_count": 519,
     "metadata": {},
     "output_type": "execute_result"
    },
    {
     "data": {
      "image/png": "[encoded data removed]",
      "text/plain": [
       "<Figure size 432x288 with 1 Axes>"
      ]
     },
     "metadata": {
      "needs_background": "light"
     },
     "output_type": "display_data"
    }
   ],
   "source": [
    "plt.suptitle('length of largest component')\n",
    "plt.plot(AD_Nodes,AD_Lengh_Component, 'ro--',ER_Nodes, ER_Lengh_Component,'bo--')\n",
    "plt.xlabel('number of nodes')\n",
    "plt.ylabel('length of largest component')\n",
    "plt.grid(True)\n",
    "plt.legend(['Sochi_AD','ER'])\n"
   ]
  },
  {
   "cell_type": "code",
   "execution_count": 520,
   "metadata": {},
   "outputs": [
    {
     "data": {
      "text/plain": [
       "<matplotlib.legend.Legend at 0x2e4c20d9488>"
      ]
     },
     "execution_count": 520,
     "metadata": {},
     "output_type": "execute_result"
    },
    {
     "data": {
      "image/png": "[encoded data removed]",
      "text/plain": [
       "<Figure size 432x288 with 1 Axes>"
      ]
     },
     "metadata": {
      "needs_background": "light"
     },
     "output_type": "display_data"
    }
   ],
   "source": [
    "plt.suptitle('number of connected components')\n",
    "plt.plot(AD_Nodes,AD_No_Component,'ro--',ER_Nodes,ER_No_Component,'go--')\n",
    "plt.xlabel('number of nodes')\n",
    "plt.ylabel('number of components')\n",
    "plt.grid(True)\n",
    "plt.legend(['Sochi_AD','ER'])"
   ]
  },
  {
   "cell_type": "code",
   "execution_count": 92,
   "metadata": {},
   "outputs": [],
   "source": [
    "AD_Nodes_start_low=[61,77,94,114,146,206,346,677,1474]"
   ]
  },
  {
   "cell_type": "code",
   "execution_count": 93,
   "metadata": {},
   "outputs": [],
   "source": [
    "AD_SizeLargeComponent=[60,76,94,114,145,204,339,638,1237]"
   ]
  },
  {
   "cell_type": "code",
   "execution_count": 94,
   "metadata": {},
   "outputs": [],
   "source": [
    "AD_NoComponent_start_low=[2,2,1,1,2,3,7,30,103]"
   ]
  },
  {
   "cell_type": "code",
   "execution_count": 95,
   "metadata": {},
   "outputs": [],
   "source": [
    "AD_Ave_Clustring=[0.086,0.094,0.121,0.094,0.076,0.089,0.068,0.096,0.038]"
   ]
  },
  {
   "cell_type": "code",
   "execution_count": 96,
   "metadata": {},
   "outputs": [],
   "source": [
    "ER_Nodes_start_low=[1,10,32,95,196,415,736,1190,1369]"
   ]
  },
  {
   "cell_type": "code",
   "execution_count": 97,
   "metadata": {},
   "outputs": [],
   "source": [
    "ER_SizeLargeComponent=[1,2,5,19,138,386,729,1177,1340]"
   ]
  },
  {
   "cell_type": "code",
   "execution_count": 98,
   "metadata": {},
   "outputs": [],
   "source": [
    "ER_NoComponent_start_low=[1,8,22,46,42,23,8,8,15]"
   ]
  },
  {
   "cell_type": "code",
   "execution_count": 99,
   "metadata": {},
   "outputs": [],
   "source": [
    "ER_Ave_Clustring=[0,0,0,0,0.0026,0.0018,0.0019,0.0017,0.0014]"
   ]
  },
  {
   "cell_type": "code",
   "execution_count": 100,
   "metadata": {},
   "outputs": [
    {
     "data": {
      "text/plain": [
       "<matplotlib.legend.Legend at 0x2196fd58f48>"
      ]
     },
     "execution_count": 100,
     "metadata": {},
     "output_type": "execute_result"
    },
    {
     "data": {
      "image/png": "[encoded data removed]",
      "text/plain": [
       "<Figure size 432x288 with 1 Axes>"
      ]
     },
     "metadata": {
      "needs_background": "light"
     },
     "output_type": "display_data"
    }
   ],
   "source": [
    "plt.suptitle('length of largest component')\n",
    "plt.plot(AD_Nodes_start_low,AD_SizeLargeComponent, 'r*--',ER_Nodes_start_low, ER_SizeLargeComponent,'b*--')\n",
    "plt.xlabel('number of nodes')\n",
    "plt.ylabel('length of largest component')\n",
    "plt.grid(True)\n",
    "plt.legend(['Sochi_AD','ER'])"
   ]
  },
  {
   "cell_type": "code",
   "execution_count": 101,
   "metadata": {},
   "outputs": [
    {
     "data": {
      "text/plain": [
       "<matplotlib.legend.Legend at 0x2196fd9b0c8>"
      ]
     },
     "execution_count": 101,
     "metadata": {},
     "output_type": "execute_result"
    },
    {
     "data": {
      "image/png": "[encoded data removed]",
      "text/plain": [
       "<Figure size 432x288 with 1 Axes>"
      ]
     },
     "metadata": {
      "needs_background": "light"
     },
     "output_type": "display_data"
    }
   ],
   "source": [
    "plt.suptitle('number of connected components')\n",
    "plt.plot(AD_Nodes_start_low,AD_NoComponent_start_low,'r*--',ER_Nodes_start_low,ER_NoComponent_start_low,'b*--')\n",
    "plt.xlabel('number of nodes')\n",
    "plt.ylabel('number of components')\n",
    "plt.grid(True)\n",
    "plt.legend(['Sochi_AD','ER'])"
   ]
  },
  {
   "cell_type": "code",
   "execution_count": 102,
   "metadata": {},
   "outputs": [
    {
     "data": {
      "text/plain": [
       "<matplotlib.legend.Legend at 0x2196fe4e888>"
      ]
     },
     "execution_count": 102,
     "metadata": {},
     "output_type": "execute_result"
    },
    {
     "data": {
      "image/png": "[encoded data removed]",
      "text/plain": [
       "<Figure size 432x288 with 1 Axes>"
      ]
     },
     "metadata": {
      "needs_background": "light"
     },
     "output_type": "display_data"
    }
   ],
   "source": [
    "plt.suptitle('Average Clustring Coefficient')\n",
    "plt.plot(AD_Nodes_start_low,AD_Ave_Clustring,'ro--',ER_Nodes_start_low,ER_Ave_Clustring,'bo--')\n",
    "plt.xlabel('number of nodes')\n",
    "plt.ylabel('Ave.Clustring Coefficient')\n",
    "plt.grid(True)\n",
    "plt.legend(['Sochi_AD','ER'])"
   ]
  },
  {
   "cell_type": "code",
   "execution_count": null,
   "metadata": {},
   "outputs": [],
   "source": []
  },
  {
   "cell_type": "code",
   "execution_count": null,
   "metadata": {},
   "outputs": [],
   "source": []
  }
 ],
 "metadata": {
  "kernelspec": {
   "display_name": "Python 3",
   "language": "python",
   "name": "python3"
  },
  "language_info": {
   "codemirror_mode": {
    "name": "ipython",
    "version": 3
   },
   "file_extension": ".py",
   "mimetype": "text/x-python",
   "name": "python",
   "nbconvert_exporter": "python",
   "pygments_lexer": "ipython3",
   "version": "3.7.6"
  }
 },
 "nbformat": 4,
 "nbformat_minor": 4
}
