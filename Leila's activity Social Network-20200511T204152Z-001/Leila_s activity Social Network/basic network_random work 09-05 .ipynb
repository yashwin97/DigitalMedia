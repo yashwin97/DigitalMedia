{
 "cells": [
  {
   "cell_type": "code",
   "execution_count": 547,
   "metadata": {},
   "outputs": [],
   "source": [
    "import numpy as np\n",
    "import pandas as pd\n",
    "%matplotlib inline\n",
    "import matplotlib.pyplot as plt\n",
    "import seaborn as sns\n",
    "import networkx as nx\n",
    "from nltk.corpus import wordnet\n",
    "from networkx.algorithms import community\n",
    "from networkx.algorithms.community import greedy_modularity_communities, asyn_fluidc"
   ]
  },
  {
   "cell_type": "code",
   "execution_count": 548,
   "metadata": {},
   "outputs": [],
   "source": [
    "from IPython.core.interactiveshell import InteractiveShell\n",
    "InteractiveShell.ast_node_interactivity = \"last_expr\""
   ]
  },
  {
   "cell_type": "code",
   "execution_count": 549,
   "metadata": {},
   "outputs": [
    {
     "data": {
      "text/plain": [
       "<_io.TextIOWrapper name='sochiAD.csv' mode='r' encoding='cp1252'>"
      ]
     },
     "execution_count": 549,
     "metadata": {},
     "output_type": "execute_result"
    }
   ],
   "source": [
    "open('sochiAD.csv')\n",
    "#open('sochiBL.csv')\n",
    "#open('sochiEX.csv')"
   ]
  },
  {
   "cell_type": "code",
   "execution_count": 550,
   "metadata": {},
   "outputs": [],
   "source": [
    "import codecs\n",
    "with codecs.open(\"sochiAD.csv\", \"r\",encoding='utf-8', errors='ignore') as file_data:\n",
    "     sochiAD_raw = pd.read_csv(file_data)"
   ]
  },
  {
   "cell_type": "code",
   "execution_count": 551,
   "metadata": {},
   "outputs": [],
   "source": [
    "sochiAD_raw['source'] = sochiAD_raw.source.astype(str)\n",
    "sochiAD_raw['target'] = sochiAD_raw.target.astype(str)\n",
    "#sochiBL_raw['source'] = sochiBL_raw.source.astype(str)\n",
    "#sochiBL_raw['target'] = sochiBL_raw.target.astype(str)\n",
    "#sochiEX_raw['source'] = sochiEX_raw.source.astype(str)\n",
    "#sochiEX_raw['target'] = sochiEX_raw.target.astype(str)"
   ]
  },
  {
   "cell_type": "code",
   "execution_count": 552,
   "metadata": {},
   "outputs": [],
   "source": [
    "sochiAD_raw['source'] = sochiAD_raw['source'].apply(lambda x:x.lower())\n",
    "sochiAD_raw['target'] = sochiAD_raw['target'].apply(lambda x:x.lower())"
   ]
  },
  {
   "cell_type": "code",
   "execution_count": 553,
   "metadata": {},
   "outputs": [
    {
     "data": {
      "text/html": [
       "<div>\n",
       "<style scoped>\n",
       "    .dataframe tbody tr th:only-of-type {\n",
       "        vertical-align: middle;\n",
       "    }\n",
       "\n",
       "    .dataframe tbody tr th {\n",
       "        vertical-align: top;\n",
       "    }\n",
       "\n",
       "    .dataframe thead th {\n",
       "        text-align: right;\n",
       "    }\n",
       "</style>\n",
       "<table border=\"1\" class=\"dataframe\">\n",
       "  <thead>\n",
       "    <tr style=\"text-align: right;\">\n",
       "      <th></th>\n",
       "      <th>source</th>\n",
       "      <th>target</th>\n",
       "      <th>weight</th>\n",
       "    </tr>\n",
       "  </thead>\n",
       "  <tbody>\n",
       "    <tr>\n",
       "      <th>0</th>\n",
       "      <td>14-feb</td>\n",
       "      <td>un</td>\n",
       "      <td>1.0</td>\n",
       "    </tr>\n",
       "    <tr>\n",
       "      <th>1</th>\n",
       "      <td>14-feb</td>\n",
       "      <td>usa</td>\n",
       "      <td>1.0</td>\n",
       "    </tr>\n",
       "    <tr>\n",
       "      <th>2</th>\n",
       "      <td>14-feb</td>\n",
       "      <td>uk</td>\n",
       "      <td>1.0</td>\n",
       "    </tr>\n",
       "    <tr>\n",
       "      <th>3</th>\n",
       "      <td>14-feb</td>\n",
       "      <td>gcc</td>\n",
       "      <td>1.0</td>\n",
       "    </tr>\n",
       "    <tr>\n",
       "      <th>4</th>\n",
       "      <td>14-feb</td>\n",
       "      <td>humanrights</td>\n",
       "      <td>2.0</td>\n",
       "    </tr>\n",
       "    <tr>\n",
       "      <th>...</th>\n",
       "      <td>...</td>\n",
       "      <td>...</td>\n",
       "      <td>...</td>\n",
       "    </tr>\n",
       "    <tr>\n",
       "      <th>112133</th>\n",
       "      <td>true</td>\n",
       "      <td>gold</td>\n",
       "      <td>1.0</td>\n",
       "    </tr>\n",
       "    <tr>\n",
       "      <th>112134</th>\n",
       "      <td>true</td>\n",
       "      <td>hockey</td>\n",
       "      <td>1.0</td>\n",
       "    </tr>\n",
       "    <tr>\n",
       "      <th>112135</th>\n",
       "      <td>true</td>\n",
       "      <td>gocanadago</td>\n",
       "      <td>1.0</td>\n",
       "    </tr>\n",
       "    <tr>\n",
       "      <th>112136</th>\n",
       "      <td>true</td>\n",
       "      <td>teamcanada</td>\n",
       "      <td>1.0</td>\n",
       "    </tr>\n",
       "    <tr>\n",
       "      <th>112137</th>\n",
       "      <td>true</td>\n",
       "      <td>wearewinter</td>\n",
       "      <td>1.0</td>\n",
       "    </tr>\n",
       "  </tbody>\n",
       "</table>\n",
       "<p>112137 rows × 3 columns</p>\n",
       "</div>"
      ],
      "text/plain": [
       "        source       target  weight\n",
       "0       14-feb           un     1.0\n",
       "1       14-feb          usa     1.0\n",
       "2       14-feb           uk     1.0\n",
       "3       14-feb          gcc     1.0\n",
       "4       14-feb  humanrights     2.0\n",
       "...        ...          ...     ...\n",
       "112133    true         gold     1.0\n",
       "112134    true       hockey     1.0\n",
       "112135    true   gocanadago     1.0\n",
       "112136    true   teamcanada     1.0\n",
       "112137    true  wearewinter     1.0\n",
       "\n",
       "[112137 rows x 3 columns]"
      ]
     },
     "execution_count": 553,
     "metadata": {},
     "output_type": "execute_result"
    }
   ],
   "source": [
    "sochiAD_raw.dropna()\n",
    "\n",
    "#df_sochi_bl.dropna()\n",
    "#df_sochi_ex.dropna()"
   ]
  },
  {
   "cell_type": "code",
   "execution_count": 554,
   "metadata": {},
   "outputs": [],
   "source": [
    "sochiAD_raw.shape\n",
    "\n",
    "sochi_ad_sample = sochiAD_raw.sample(n=10000,random_state=1)"
   ]
  },
  {
   "cell_type": "code",
   "execution_count": 555,
   "metadata": {},
   "outputs": [],
   "source": [
    "for index, row in sochi_ad_sample.iterrows():\n",
    "    if not wordnet.synsets(row['source']):\n",
    "        sochi_ad_sample.drop(index,inplace=True)\n",
    "    elif not wordnet.synsets(row['target']):\n",
    "        sochi_ad_sample.drop(index,inplace=True)"
   ]
  },
  {
   "cell_type": "code",
   "execution_count": 556,
   "metadata": {},
   "outputs": [],
   "source": [
    "G_s_ad = nx.from_pandas_edgelist(sochi_ad_sample,'source','target','weight')"
   ]
  },
  {
   "cell_type": "code",
   "execution_count": 557,
   "metadata": {},
   "outputs": [],
   "source": [
    "c = list(greedy_modularity_communities(G_s_ad))"
   ]
  },
  {
   "cell_type": "code",
   "execution_count": 558,
   "metadata": {},
   "outputs": [],
   "source": [
    "nx.write_gexf(G_s_ad, \"test.gexf\")"
   ]
  },
  {
   "cell_type": "code",
   "execution_count": null,
   "metadata": {},
   "outputs": [],
   "source": []
  },
  {
   "cell_type": "code",
   "execution_count": 559,
   "metadata": {},
   "outputs": [],
   "source": [
    "#create dict with nodes as key and degree as value\n",
    "degree_dict_AD = dict(G_s_ad.degree(G_s_ad.nodes()))\n",
    "nx.set_node_attributes(G_s_ad, degree_dict_AD, 'degree')\n",
    "#degree_dict_AD"
   ]
  },
  {
   "cell_type": "code",
   "execution_count": 560,
   "metadata": {},
   "outputs": [],
   "source": [
    "# dict with nodes and degree sorted\n",
    "from operator import itemgetter\n",
    "sorted_degree_AD = sorted(degree_dict_AD.items(), key=itemgetter(1), reverse=True)\n",
    "#sorted_degree_AD"
   ]
  },
  {
   "cell_type": "code",
   "execution_count": 561,
   "metadata": {},
   "outputs": [
    {
     "name": "stdout",
     "output_type": "stream",
     "text": [
      "Top 100 nodes by degree:\n"
     ]
    }
   ],
   "source": [
    "print(\"Top 100 nodes by degree:\")\n",
    "#for d in sorted_degree_AD[:100]:\n",
    "    #print(d)"
   ]
  },
  {
   "cell_type": "code",
   "execution_count": 562,
   "metadata": {},
   "outputs": [
    {
     "data": {
      "text/plain": [
       "['blue',\n",
       " 'beautiful',\n",
       " 'canada',\n",
       " 'bobsled',\n",
       " '2nd',\n",
       " 'montreal',\n",
       " 'track',\n",
       " 'south',\n",
       " 'astonishing',\n",
       " 'winter',\n",
       " 'skating',\n",
       " 'snow',\n",
       " 'molines',\n",
       " 'work',\n",
       " 'alberta',\n",
       " 'miss',\n",
       " 'injury',\n",
       " 'regina',\n",
       " 'us',\n",
       " 'central',\n",
       " 'outstanding',\n",
       " 'gold',\n",
       " 'white',\n",
       " 'russia',\n",
       " 'trees',\n",
       " 'speed',\n",
       " 'greatest',\n",
       " 'museum',\n",
       " 'after',\n",
       " 'game',\n",
       " 'kuwait',\n",
       " 'god',\n",
       " 'hockey',\n",
       " 'amazon',\n",
       " 'medal',\n",
       " 'australia',\n",
       " 'uppercut',\n",
       " 'yr',\n",
       " 'florida',\n",
       " 'snowboard',\n",
       " 'cross',\n",
       " 'skiing',\n",
       " 'photography',\n",
       " 'nederland',\n",
       " 'pens',\n",
       " 'clever',\n",
       " 'queen',\n",
       " 'live',\n",
       " 'progress',\n",
       " 'ski',\n",
       " 'legend',\n",
       " 'vancouver',\n",
       " 'flame',\n",
       " 'health',\n",
       " 'obesity',\n",
       " 'congratulations',\n",
       " 'dream',\n",
       " 'love',\n",
       " 'birth',\n",
       " 'sister',\n",
       " 'he',\n",
       " 'usa',\n",
       " 'bronze',\n",
       " 'symbols',\n",
       " 'headers',\n",
       " 'crybaby',\n",
       " 'inspiring',\n",
       " 'laugh',\n",
       " 'browns',\n",
       " 'lem',\n",
       " 'lebanese',\n",
       " 'lebanon',\n",
       " 'pentathlon',\n",
       " 'crazy',\n",
       " 'green',\n",
       " 'travel',\n",
       " 'breaking',\n",
       " 'sports',\n",
       " 'luge',\n",
       " 'venezuela',\n",
       " 'tx',\n",
       " 'denmark',\n",
       " 'norway',\n",
       " 'ru',\n",
       " 'tehran',\n",
       " 'addict',\n",
       " 'small',\n",
       " 'first',\n",
       " 'finnish',\n",
       " 'kobe',\n",
       " 'rallies',\n",
       " 'video',\n",
       " 'old',\n",
       " 'edinburgh',\n",
       " 'shots',\n",
       " 'iraq',\n",
       " 'german',\n",
       " 'wins',\n",
       " 'in',\n",
       " 'loan',\n",
       " 'lady',\n",
       " 'hotspot',\n",
       " 'sunshine',\n",
       " 'ecuador',\n",
       " 'honduras',\n",
       " 'nails',\n",
       " 'flags',\n",
       " 'olympic',\n",
       " 'design',\n",
       " 'nike',\n",
       " 'paraguay',\n",
       " 'fun',\n",
       " 'minsk',\n",
       " 'children',\n",
       " 'sunset',\n",
       " 'sunrise',\n",
       " 'downed',\n",
       " 'looks',\n",
       " 'wort',\n",
       " 'slalom',\n",
       " 'fail',\n",
       " 'sweden',\n",
       " 'hope',\n",
       " 'vintage',\n",
       " 'gift',\n",
       " 'truth',\n",
       " 'medals',\n",
       " 'metals',\n",
       " 'performance',\n",
       " 'event',\n",
       " 'americans',\n",
       " 'team',\n",
       " 'gb',\n",
       " 'by',\n",
       " 'diamond',\n",
       " 'win',\n",
       " 'redwings',\n",
       " 'icehouse',\n",
       " 'homeland',\n",
       " 'singers',\n",
       " 'follow',\n",
       " 'sayonara',\n",
       " 'nippon',\n",
       " 'osaka',\n",
       " 'stripes',\n",
       " 'boys',\n",
       " 'beers',\n",
       " 'uk',\n",
       " 'ireland',\n",
       " 'sold',\n",
       " 'residence',\n",
       " 'updated',\n",
       " 'cool',\n",
       " 'ladies',\n",
       " 'disappointed',\n",
       " 'crying',\n",
       " 'laughs',\n",
       " 'smiles',\n",
       " 'help',\n",
       " 'question',\n",
       " 'sudan',\n",
       " 'sport',\n",
       " 'humble',\n",
       " 'entertaining',\n",
       " 'silhouette',\n",
       " 'place',\n",
       " 'russian',\n",
       " 'muscle',\n",
       " 'finland',\n",
       " 'america',\n",
       " 'mayor',\n",
       " 'canadian',\n",
       " 'media',\n",
       " 'kill',\n",
       " 'remake',\n",
       " 'hot',\n",
       " 'pacers',\n",
       " 'wagner',\n",
       " 'takes',\n",
       " 'run',\n",
       " 'fell',\n",
       " 'invitation',\n",
       " 'happy',\n",
       " 'netherlands',\n",
       " 'viking',\n",
       " 'wild',\n",
       " 'pray',\n",
       " 'proud',\n",
       " 'city',\n",
       " 'italia',\n",
       " 'march',\n",
       " 'brasil',\n",
       " 'mexico',\n",
       " 'bob',\n",
       " 'games',\n",
       " 'syria',\n",
       " 'tokyo',\n",
       " 'mohawk',\n",
       " 'patriotism',\n",
       " 'mvp',\n",
       " 'too',\n",
       " 'ice',\n",
       " 'embarrassment',\n",
       " 'artist',\n",
       " 'athlete',\n",
       " 'cyprus',\n",
       " 'putin',\n",
       " 'cia',\n",
       " 'cheer',\n",
       " 'winners',\n",
       " 'next',\n",
       " 'west',\n",
       " 'festival',\n",
       " 'text',\n",
       " 'great',\n",
       " 'come',\n",
       " 'sea',\n",
       " 'view',\n",
       " 'president',\n",
       " 'beach',\n",
       " 'xc',\n",
       " 'fashion',\n",
       " 'necklace',\n",
       " 'monaco',\n",
       " 'korean',\n",
       " 'cars',\n",
       " 'costas',\n",
       " 'ironman',\n",
       " 'sr',\n",
       " 'moments',\n",
       " 'friends',\n",
       " 'band',\n",
       " 'saturday',\n",
       " 'water',\n",
       " 'pool',\n",
       " 'videos',\n",
       " 'kiev',\n",
       " 'books',\n",
       " 'entertainment',\n",
       " 'rest',\n",
       " 'weekend',\n",
       " 'racing',\n",
       " 'practice',\n",
       " 'done',\n",
       " 'pathetic',\n",
       " 'social',\n",
       " 'life',\n",
       " 'christianity',\n",
       " 'eu',\n",
       " 'people',\n",
       " 'winnipeg',\n",
       " 'romania',\n",
       " 'taiwan',\n",
       " 'on',\n",
       " 'shore',\n",
       " 'granger',\n",
       " 'deal',\n",
       " 'disease',\n",
       " 'cancer',\n",
       " 'wrangler',\n",
       " 'gratitude',\n",
       " 'suomi',\n",
       " 'sees',\n",
       " 'inc',\n",
       " 'follower',\n",
       " 'don',\n",
       " 'pub',\n",
       " 'want',\n",
       " 'yeah',\n",
       " 'girl',\n",
       " 'review',\n",
       " 'moscow',\n",
       " 'mom',\n",
       " 'favors',\n",
       " 'sharpening',\n",
       " 'can',\n",
       " 'pic',\n",
       " 'gracie',\n",
       " 'remarkable',\n",
       " 'quebec',\n",
       " 'cartier',\n",
       " 'europe',\n",
       " 'music',\n",
       " 'paris',\n",
       " 'facial',\n",
       " 'security',\n",
       " 'caracas',\n",
       " 'suspicious',\n",
       " 'legal',\n",
       " 'litigation',\n",
       " 'organic',\n",
       " 'women',\n",
       " 'ensure',\n",
       " 'superman',\n",
       " 'brilliant',\n",
       " 'chemistry',\n",
       " 'relax',\n",
       " 'will',\n",
       " 'o',\n",
       " 'commission',\n",
       " 'carries',\n",
       " 'margaritas',\n",
       " 'breakfast',\n",
       " 'producer',\n",
       " 'share',\n",
       " 'nightly',\n",
       " 'booze',\n",
       " 'podium',\n",
       " 'missing',\n",
       " 'stolen',\n",
       " 'indian',\n",
       " 'international',\n",
       " 'flown',\n",
       " 'r',\n",
       " 'france',\n",
       " 'pastors',\n",
       " 'moms',\n",
       " 'ottawa',\n",
       " 'toronto',\n",
       " 'winner',\n",
       " 'japan',\n",
       " 'clothes',\n",
       " 'news',\n",
       " 'wants',\n",
       " 'domination',\n",
       " 'states',\n",
       " 'happiness',\n",
       " 'bridge',\n",
       " 'orange',\n",
       " 'it',\n",
       " 'u',\n",
       " 'beer',\n",
       " 'pride',\n",
       " 'running',\n",
       " 'korea',\n",
       " 'dogs',\n",
       " 'shows',\n",
       " 'dragging',\n",
       " 'respect',\n",
       " 'virtue',\n",
       " 'medalist',\n",
       " 'tv',\n",
       " 'schedule',\n",
       " 'friday',\n",
       " 'figure',\n",
       " 'weep',\n",
       " 'coordinated',\n",
       " 'unfair',\n",
       " 'beijing',\n",
       " 'london',\n",
       " 'thanks',\n",
       " 'passion',\n",
       " 'california',\n",
       " 'arizona',\n",
       " 'kids',\n",
       " 'halifax',\n",
       " 'quick',\n",
       " 'punk',\n",
       " 'billion',\n",
       " 'un',\n",
       " 'ftc',\n",
       " 'raiders',\n",
       " 'panama',\n",
       " 'washington',\n",
       " 'england',\n",
       " 'virginia',\n",
       " 'jacket',\n",
       " 'noteworthy',\n",
       " 'funny',\n",
       " 'erotic',\n",
       " 'trading',\n",
       " 'drinking',\n",
       " 'warm',\n",
       " 'armenia',\n",
       " 'ukraine',\n",
       " 'fighter',\n",
       " 'giveaway',\n",
       " 'gamer',\n",
       " 'doge',\n",
       " 'noise',\n",
       " 'recreation',\n",
       " 'leaf',\n",
       " 'bohemian',\n",
       " 'brick',\n",
       " 'olympia',\n",
       " 'bid',\n",
       " 'singer',\n",
       " 'austria',\n",
       " 'arkansas',\n",
       " 'charity',\n",
       " 'stony',\n",
       " 'framework',\n",
       " 'skates',\n",
       " 'colombia',\n",
       " 'guide',\n",
       " 'tactics',\n",
       " 'ode',\n",
       " 's',\n",
       " 'decades',\n",
       " 'puppies',\n",
       " 'marketing',\n",
       " 'oreos',\n",
       " 'short',\n",
       " 'mens',\n",
       " 'visit',\n",
       " 'job',\n",
       " 'ontario',\n",
       " 'curling',\n",
       " 'racks',\n",
       " 'ball',\n",
       " 'stupid',\n",
       " 'socks',\n",
       " 'singapore',\n",
       " 'pussy',\n",
       " 'whips',\n",
       " 'air',\n",
       " 'airport',\n",
       " 'gymnastics',\n",
       " 'jealousy',\n",
       " 'grab',\n",
       " 'scott',\n",
       " 'silver',\n",
       " 'coffee',\n",
       " 'doughnuts',\n",
       " 'lifts',\n",
       " 'vi',\n",
       " 'gmt',\n",
       " 'bahamas',\n",
       " 'casing',\n",
       " 'brand',\n",
       " 'polish',\n",
       " 'man',\n",
       " 'champion',\n",
       " 'training',\n",
       " 'enter',\n",
       " 'miami',\n",
       " 'final',\n",
       " 'penalty',\n",
       " 'red',\n",
       " 'c',\n",
       " 'k',\n",
       " 'style',\n",
       " 'latvia',\n",
       " 'semis',\n",
       " 'smelly',\n",
       " 'finally',\n",
       " 'art',\n",
       " 'be',\n",
       " 'excited',\n",
       " 'bicycle',\n",
       " 'cap',\n",
       " 'like',\n",
       " 'cute',\n",
       " 'prospects',\n",
       " 'opera',\n",
       " 'service',\n",
       " 'result',\n",
       " 'norwegians',\n",
       " 'burlington',\n",
       " 'recap',\n",
       " 'finals',\n",
       " 'model',\n",
       " 'kindle',\n",
       " 'crochet',\n",
       " 'avs',\n",
       " 'leeds',\n",
       " 'darling',\n",
       " 'awoke',\n",
       " 'backyard',\n",
       " 'mix',\n",
       " '80s',\n",
       " 'soursop',\n",
       " 'income',\n",
       " 'accessories',\n",
       " 'thor',\n",
       " 'jersey',\n",
       " 'visits',\n",
       " 'bottles',\n",
       " 'connecting',\n",
       " 'jewelry',\n",
       " 'opinion',\n",
       " 'chicago',\n",
       " 'sharpie',\n",
       " 'past',\n",
       " 'due',\n",
       " 'healthy',\n",
       " 'sticks',\n",
       " 'players',\n",
       " 'men',\n",
       " 'muslim',\n",
       " 'kicker',\n",
       " 'riot',\n",
       " 'rocks',\n",
       " 'summer',\n",
       " 'ted',\n",
       " 'gain',\n",
       " 'dc',\n",
       " 'week',\n",
       " 'go',\n",
       " 'olympians',\n",
       " 'dominates',\n",
       " 'giant',\n",
       " 'power',\n",
       " 'blonde',\n",
       " 'inspiration',\n",
       " 'peace',\n",
       " 'are',\n",
       " 'face',\n",
       " 'council',\n",
       " 'aid',\n",
       " 'coahuila',\n",
       " 'h2o',\n",
       " 'evil',\n",
       " 'amazing',\n",
       " 'snowboarding',\n",
       " 'addicted',\n",
       " 'contest',\n",
       " 'vs',\n",
       " 'report',\n",
       " 'over',\n",
       " 'now',\n",
       " 'bruins',\n",
       " 'victory',\n",
       " 'giveaways',\n",
       " 'official',\n",
       " 'friendship',\n",
       " 'glasgow',\n",
       " 'czech',\n",
       " 'aus',\n",
       " 'american',\n",
       " 'coyotes',\n",
       " 'olympiad',\n",
       " 'never',\n",
       " 'cisco',\n",
       " 'marvel',\n",
       " 'tube',\n",
       " 'anal',\n",
       " 'goodbye',\n",
       " 'blond',\n",
       " 'friend',\n",
       " 'uppsala',\n",
       " 'sverige',\n",
       " 'teams',\n",
       " 'woman',\n",
       " 'scene',\n",
       " 'brazil',\n",
       " 'turkey',\n",
       " 'mountain',\n",
       " 'flowers',\n",
       " 'test',\n",
       " 'new',\n",
       " 'anime',\n",
       " 'pretty',\n",
       " 'dress',\n",
       " 'world',\n",
       " 'hear',\n",
       " 'horizons',\n",
       " 'dagger',\n",
       " 'thunder',\n",
       " 'score',\n",
       " 'made',\n",
       " 'judging',\n",
       " 'robbed',\n",
       " 'play',\n",
       " 'meet',\n",
       " 'player',\n",
       " 'india',\n",
       " 'recall',\n",
       " 'pop',\n",
       " 'gloss',\n",
       " 'lipstick',\n",
       " 'poor',\n",
       " 'fin',\n",
       " 'influx',\n",
       " 'cbc',\n",
       " 'mantis',\n",
       " 'or',\n",
       " 'panorama',\n",
       " 'farrow',\n",
       " 'bracelet',\n",
       " 'writer',\n",
       " 'barrie',\n",
       " 'defeats',\n",
       " 'me',\n",
       " 'eas',\n",
       " 'gym',\n",
       " 'burke',\n",
       " 'countdown',\n",
       " 'tonight',\n",
       " 'switzerland',\n",
       " 'match',\n",
       " 'iran',\n",
       " 'handsome',\n",
       " 'sky',\n",
       " 'stone',\n",
       " 'baby',\n",
       " 'milan',\n",
       " 'semifinals',\n",
       " 'loves',\n",
       " 'stockholm',\n",
       " 'se',\n",
       " 'brownsville',\n",
       " 'an',\n",
       " 'skate',\n",
       " 'demand',\n",
       " 'cartwright',\n",
       " 'animals',\n",
       " 'young',\n",
       " 'anaheim',\n",
       " 'deportes',\n",
       " 'kentucky',\n",
       " 'whipping',\n",
       " 'whitehorse',\n",
       " 'safe',\n",
       " 'holiday',\n",
       " 'girls',\n",
       " 'michigan',\n",
       " 'college',\n",
       " 'indonesia',\n",
       " 'punjabi',\n",
       " 'rap',\n",
       " 'day',\n",
       " 'petfood',\n",
       " 'columbia',\n",
       " 'faith',\n",
       " 'mercy',\n",
       " 'perfect',\n",
       " 'pittsburgh',\n",
       " 'mao',\n",
       " 'asian',\n",
       " 'malaysian',\n",
       " 'occupy',\n",
       " 'participants',\n",
       " 'birthday',\n",
       " 'captured',\n",
       " 'at',\n",
       " 'british',\n",
       " 'suisse',\n",
       " 'deals',\n",
       " 'consulting',\n",
       " 'kidnapped',\n",
       " 'illinois',\n",
       " 'springs',\n",
       " 'trade',\n",
       " 'about',\n",
       " 'clue',\n",
       " 'faded',\n",
       " 'twitter',\n",
       " 'business',\n",
       " 'fox',\n",
       " 'edmonton',\n",
       " 'cider',\n",
       " 'beating',\n",
       " 'global',\n",
       " 'furnished',\n",
       " 'collapse',\n",
       " 'weather',\n",
       " 'victoria',\n",
       " 'online',\n",
       " 'push',\n",
       " 'alabama',\n",
       " 'requests',\n",
       " 'shopping',\n",
       " 'germany',\n",
       " 'third',\n",
       " 'conscious',\n",
       " 'languages',\n",
       " 'tweeting',\n",
       " 'price',\n",
       " 'keep',\n",
       " 'custom',\n",
       " 'metronome',\n",
       " 'powerhouse',\n",
       " 'blackjack',\n",
       " 'handlebar',\n",
       " 'mustache',\n",
       " 'anorexic',\n",
       " 'currency',\n",
       " 'space',\n",
       " 'glory',\n",
       " 'beckons',\n",
       " 'going',\n",
       " 'www',\n",
       " 'blackout',\n",
       " 'fans',\n",
       " 'playoff',\n",
       " 'dreams',\n",
       " 'forever',\n",
       " 'cola',\n",
       " 'nice',\n",
       " 'hugs',\n",
       " 'skater',\n",
       " 'know',\n",
       " 'retail',\n",
       " 'exhibition',\n",
       " 'memorable',\n",
       " 'stick',\n",
       " 'repeat',\n",
       " 'oakland',\n",
       " 'sarah',\n",
       " 'painting',\n",
       " 'broadcast',\n",
       " 'dawson',\n",
       " 'bomber',\n",
       " 'state',\n",
       " 'fort',\n",
       " 'guadalajara',\n",
       " 'beat',\n",
       " 'beards',\n",
       " 'lunch',\n",
       " 'whiteface',\n",
       " 'football',\n",
       " 'afghanistan',\n",
       " 'smoke',\n",
       " 'train',\n",
       " 'wa',\n",
       " 'i',\n",
       " 'wits',\n",
       " 'party',\n",
       " 'scores',\n",
       " 'who',\n",
       " 'teen',\n",
       " 'norge',\n",
       " 'calgary',\n",
       " 'psychology',\n",
       " 'jesus',\n",
       " 'vote',\n",
       " 'resolution',\n",
       " 'subversion',\n",
       " 'paradise',\n",
       " 'war',\n",
       " 'sunday',\n",
       " 'family',\n",
       " 'omaha',\n",
       " 'program',\n",
       " 'atp',\n",
       " 'jam',\n",
       " 'fact',\n",
       " 'pattern',\n",
       " 'harper',\n",
       " 'basketball',\n",
       " 'tibet',\n",
       " 'yellow',\n",
       " 'rio',\n",
       " 'fire',\n",
       " 'malaysia',\n",
       " 'torreon',\n",
       " 'pocket',\n",
       " 'pockets',\n",
       " 'throwback',\n",
       " 'clouds',\n",
       " 'point',\n",
       " 'apple',\n",
       " 'dollar',\n",
       " 'wager',\n",
       " 'soul',\n",
       " 'ad',\n",
       " 'choked',\n",
       " 'mugs',\n",
       " 'rain',\n",
       " 'snowing',\n",
       " 'ri',\n",
       " 'overturn',\n",
       " 'mo',\n",
       " 'pilot',\n",
       " 'good',\n",
       " 'arcade',\n",
       " 'soccer',\n",
       " 'philippines',\n",
       " 'sabres',\n",
       " 'celebrate',\n",
       " 'black',\n",
       " 'co',\n",
       " 'druids',\n",
       " 'dps',\n",
       " 'copper',\n",
       " 'parallel',\n",
       " 'naked',\n",
       " 'part',\n",
       " 'italy',\n",
       " 'texas',\n",
       " 'leaves',\n",
       " 'sand',\n",
       " 'helsinki',\n",
       " 'oakley',\n",
       " 'burton',\n",
       " 'mystery',\n",
       " 'sportswomen',\n",
       " 'pennsylvania',\n",
       " 'guitar',\n",
       " 'aberdeen',\n",
       " 'marathon',\n",
       " 'hilarious',\n",
       " 'dimples',\n",
       " 'pancakes',\n",
       " 'stitches',\n",
       " 'needed',\n",
       " 'see',\n",
       " 'thames',\n",
       " 'louder',\n",
       " 'gala',\n",
       " 'book',\n",
       " 'army',\n",
       " 'buildings',\n",
       " 'lithuania',\n",
       " 'rehearsal',\n",
       " 'dutch',\n",
       " 'survivor',\n",
       " 'lovely',\n",
       " 'uruguay',\n",
       " 'beauty',\n",
       " 'inspirational',\n",
       " 'swag',\n",
       " 'stand',\n",
       " 'tall',\n",
       " 'bos',\n",
       " 'downtown',\n",
       " 'sing',\n",
       " 'eve',\n",
       " 'smile',\n",
       " 'strong',\n",
       " 'gretzky',\n",
       " 'killing',\n",
       " 'country',\n",
       " 'ghana',\n",
       " 'wolf',\n",
       " 'birds',\n",
       " 'nj',\n",
       " 'poland',\n",
       " 'today',\n",
       " 'arrests',\n",
       " 'coss',\n",
       " 'christ',\n",
       " 'persecution',\n",
       " 'w',\n",
       " 'cheating',\n",
       " 'al',\n",
       " 'patriotic',\n",
       " 'wow',\n",
       " 'doping',\n",
       " 'holidays',\n",
       " 'vacation',\n",
       " 'snowboarder',\n",
       " 'georgia',\n",
       " 'favorite',\n",
       " 'venue',\n",
       " 'courage',\n",
       " 'determination',\n",
       " 'holland',\n",
       " 'dog',\n",
       " 'cincinnati',\n",
       " 'nation',\n",
       " 'protests',\n",
       " 'czechs',\n",
       " 'numbers',\n",
       " 'loyal',\n",
       " 'statue',\n",
       " 'reno',\n",
       " 'awaken',\n",
       " 'politics',\n",
       " 'maybe',\n",
       " 'river',\n",
       " 'frozen',\n",
       " 'cavalcade',\n",
       " 'loss',\n",
       " 'v',\n",
       " 'dolphin',\n",
       " 'journalism',\n",
       " 'broadcasting',\n",
       " 'child',\n",
       " 'sculptor',\n",
       " 'touching',\n",
       " 'matches',\n",
       " 'surreal',\n",
       " 'tech',\n",
       " 'exciting',\n",
       " 'arabic',\n",
       " 'mini',\n",
       " 'ni',\n",
       " 'racism',\n",
       " 'blazed',\n",
       " 'penguins',\n",
       " 'os',\n",
       " 'nigeria',\n",
       " 'rangers',\n",
       " 'msg',\n",
       " 'intense',\n",
       " 'migration',\n",
       " 'yummy',\n",
       " 'hoax',\n",
       " 'championships',\n",
       " 'lips',\n",
       " 'q',\n",
       " 'belize',\n",
       " 'deutschland',\n",
       " 'photo',\n",
       " 'couples',\n",
       " 'legends',\n",
       " 'top',\n",
       " 'walker',\n",
       " 'lightness',\n",
       " 'dance',\n",
       " 'support',\n",
       " 'wedding',\n",
       " 'rask',\n",
       " 'so',\n",
       " 'memories',\n",
       " 'finn',\n",
       " 'jihad',\n",
       " 'sexy',\n",
       " 'hobby',\n",
       " 'last',\n",
       " 'tribute',\n",
       " 'grammar',\n",
       " 'champions',\n",
       " 'bulldogs',\n",
       " 'canucks',\n",
       " 'nights',\n",
       " 'max',\n",
       " 'salsa',\n",
       " 'taco',\n",
       " 'mud',\n",
       " 'edition',\n",
       " 'tolerance',\n",
       " 'hacked',\n",
       " 'suffer',\n",
       " 'britain',\n",
       " 'won',\n",
       " 'boston',\n",
       " 'wall',\n",
       " 'anchor',\n",
       " 'school',\n",
       " '1960s',\n",
       " 'gum',\n",
       " 'appeared',\n",
       " 'subscribe',\n",
       " 'island',\n",
       " 'future',\n",
       " 'born',\n",
       " 'arts',\n",
       " 'prague',\n",
       " 'free',\n",
       " 'ray',\n",
       " 'rice',\n",
       " 'ne',\n",
       " 'bremen',\n",
       " 'mumbai',\n",
       " 'joke',\n",
       " 'nw',\n",
       " 'algeria',\n",
       " 'nations',\n",
       " 'equipment',\n",
       " 'ravens',\n",
       " 'chills',\n",
       " 'random',\n",
       " 'places',\n",
       " 'rally',\n",
       " 'tarot',\n",
       " 'nature',\n",
       " 'fs',\n",
       " 'ex',\n",
       " 'interactive',\n",
       " 'demo',\n",
       " 'mountains',\n",
       " 'suede',\n",
       " 'bandana',\n",
       " 'de',\n",
       " 'figurative',\n",
       " 'cuba',\n",
       " 'baseball',\n",
       " 'cubs',\n",
       " 'a',\n",
       " 'education',\n",
       " 'choke',\n",
       " 'cinematic',\n",
       " 'dusk',\n",
       " 'cl',\n",
       " 'really',\n",
       " 'nancy',\n",
       " 'endangered',\n",
       " 'makeup',\n",
       " 'sex',\n",
       " 'rad',\n",
       " 'backes',\n",
       " 'traditional',\n",
       " 'imagine',\n",
       " 'almost',\n",
       " 'bad',\n",
       " 'rogues',\n",
       " 'drive',\n",
       " 'care',\n",
       " 'two',\n",
       " 'ny',\n",
       " 'jobs',\n",
       " 'fiesta',\n",
       " 'santiago',\n",
       " 'pro',\n",
       " 'dj',\n",
       " 'lights',\n",
       " 'chain',\n",
       " ...]"
      ]
     },
     "execution_count": 562,
     "metadata": {},
     "output_type": "execute_result"
    }
   ],
   "source": [
    "getKeysByValue(degree_dict_AD,100)"
   ]
  },
  {
   "cell_type": "code",
   "execution_count": 563,
   "metadata": {},
   "outputs": [
    {
     "name": "stdout",
     "output_type": "stream",
     "text": [
      "Name: \n",
      "Type: Graph\n",
      "Number of nodes: 1474\n",
      "Number of edges: 1970\n",
      "Average degree:   2.6730\n"
     ]
    }
   ],
   "source": [
    "print(nx.info(G_s_ad))"
   ]
  },
  {
   "cell_type": "code",
   "execution_count": 564,
   "metadata": {},
   "outputs": [
    {
     "name": "stdout",
     "output_type": "stream",
     "text": [
      "Name: \n",
      "Type: Graph\n",
      "Number of nodes: 1474\n",
      "Number of edges: 1971\n",
      "Average degree:   2.6744\n"
     ]
    }
   ],
   "source": [
    "ER1= nx.erdos_renyi_graph(1474,0.00184,seed=1) \n",
    "#nx.draw(ER1, with_labels=True) \n",
    "#plt.show()\n",
    "print(nx.info(ER1))"
   ]
  },
  {
   "cell_type": "code",
   "execution_count": 565,
   "metadata": {},
   "outputs": [
    {
     "name": "stdout",
     "output_type": "stream",
     "text": [
      "Name: \n",
      "Type: Graph\n",
      "Number of nodes: 1474\n",
      "Number of edges: 1976\n",
      "Average degree:   2.6811\n"
     ]
    }
   ],
   "source": [
    "ER2= nx.erdos_renyi_graph(1474,0.00181,seed=2) \n",
    "#nx.draw(ER2, with_labels=True) \n",
    "#plt.show()\n",
    "print(nx.info(ER2))"
   ]
  },
  {
   "cell_type": "code",
   "execution_count": 566,
   "metadata": {},
   "outputs": [
    {
     "name": "stdout",
     "output_type": "stream",
     "text": [
      "Name: \n",
      "Type: Graph\n",
      "Number of nodes: 1474\n",
      "Number of edges: 1973\n",
      "Average degree:   2.6771\n"
     ]
    }
   ],
   "source": [
    "ER3= nx.erdos_renyi_graph(1474,0.001918,seed=3) \n",
    "#nx.draw(ER3, with_labels=True) \n",
    "#plt.show()\n",
    "print(nx.info(ER3))"
   ]
  },
  {
   "cell_type": "code",
   "execution_count": 567,
   "metadata": {},
   "outputs": [],
   "source": [
    "degree_sequence_AD = sorted(G_s_ad.degree(), key=lambda x: x[1], reverse=True)\n",
    "#degree_sequence_AD\n"
   ]
  },
  {
   "cell_type": "code",
   "execution_count": 568,
   "metadata": {},
   "outputs": [],
   "source": [
    "degree_sequence_ER1 = sorted(ER1.degree(), key=lambda x: x[1], reverse=True)\n",
    "#degree_sequence_ER1\n"
   ]
  },
  {
   "cell_type": "code",
   "execution_count": 569,
   "metadata": {},
   "outputs": [],
   "source": [
    "Degree_list_AD=[]\n",
    "Degree_list_ER1=[]\n",
    "Degree_list_ER2=[]\n",
    "Degree_list_ER3=[]\n",
    "for c in degree_sequence_AD:\n",
    "    Degree_list_AD.append(c[1])\n",
    "for c in degree_sequence_ER1:\n",
    "    Degree_list_ER1.append(c[1])    \n",
    "for c in degree_sequence_ER2:\n",
    "    Degree_list_ER2.append(c[1])\n",
    "for c in degree_sequence_ER3:\n",
    "    Degree_list_ER3.append(c[1])    "
   ]
  },
  {
   "cell_type": "code",
   "execution_count": 570,
   "metadata": {},
   "outputs": [
    {
     "data": {
      "image/png": "[encoded data removed]",
      "text/plain": [
       "<Figure size 432x288 with 2 Axes>"
      ]
     },
     "metadata": {
      "needs_background": "light"
     },
     "output_type": "display_data"
    }
   ],
   "source": [
    "plt.suptitle('Degree distribution in Sochi_AD and ER')\n",
    "plt.subplot(121)\n",
    "plt.plot(Degree_list_AD, 'r*', linewidth=1.0)\n",
    "plt.xlabel ('frequency of degrees',fontsize=12)\n",
    "plt.ylabel('degrees',fontsize=12)\n",
    "plt.grid(True)\n",
    "plt.subplot(122)\n",
    "plt.plot(Degree_list_ER1, 'b*', linewidth=1.0)\n",
    "plt.tick_params(axis='both',labelsize=12)\n",
    "plt.grid(True)\n",
    "plt.show()\n"
   ]
  },
  {
   "cell_type": "code",
   "execution_count": 571,
   "metadata": {},
   "outputs": [],
   "source": [
    "degree_sequence_ER2 = sorted(ER2.degree(), key=lambda x: x[1], reverse=True)\n",
    "#degree_sequence_ER2"
   ]
  },
  {
   "cell_type": "code",
   "execution_count": 572,
   "metadata": {},
   "outputs": [],
   "source": [
    "degree_sequence_ER3 = sorted(ER3.degree(), key=lambda x: x[1], reverse=True)\n",
    "#degree_sequence_ER3"
   ]
  },
  {
   "cell_type": "code",
   "execution_count": 573,
   "metadata": {},
   "outputs": [
    {
     "name": "stdout",
     "output_type": "stream",
     "text": [
      "0.037943014585357954\n"
     ]
    }
   ],
   "source": [
    "# Clustering coefficient of all nodes (in a dictionary) \n",
    "clust_coefficients = nx.clustering(G_s_ad)\n",
    "# Or use directly the built-in method\n",
    "print (nx.average_clustering(G_s_ad))\n"
   ]
  },
  {
   "cell_type": "code",
   "execution_count": 574,
   "metadata": {},
   "outputs": [
    {
     "name": "stdout",
     "output_type": "stream",
     "text": [
      "0.00012437810945273634\n"
     ]
    }
   ],
   "source": [
    "# Clustering coefficient of all nodes (in a dictionary) \n",
    "clust_coefficients_ER1 = nx.clustering(ER1)\n",
    "# Or use directly the built-in method\n",
    "print (nx.average_clustering(ER1))"
   ]
  },
  {
   "cell_type": "code",
   "execution_count": 575,
   "metadata": {},
   "outputs": [
    {
     "name": "stdout",
     "output_type": "stream",
     "text": [
      "0.0018656716417910452\n"
     ]
    }
   ],
   "source": [
    "# Clustering coefficient of all nodes (in a dictionary) \n",
    "clust_coefficients_ER2 = nx.clustering(ER2)\n",
    "# Or use directly the built-in method\n",
    "print (nx.average_clustering(ER2))"
   ]
  },
  {
   "cell_type": "code",
   "execution_count": 576,
   "metadata": {},
   "outputs": [
    {
     "name": "stdout",
     "output_type": "stream",
     "text": [
      "0.0021354267622924338\n"
     ]
    }
   ],
   "source": [
    "# Clustering coefficient of all nodes (in a dictionary) \n",
    "clust_coefficients_ER3 = nx.clustering(ER3)\n",
    "# Or use directly the built-in method\n",
    "print (nx.average_clustering(ER3))"
   ]
  },
  {
   "cell_type": "code",
   "execution_count": 577,
   "metadata": {},
   "outputs": [
    {
     "name": "stdout",
     "output_type": "stream",
     "text": [
      "0.0013751588378454048\n"
     ]
    }
   ],
   "source": [
    "print((nx.average_clustering(ER1)+nx.average_clustering(ER2)+nx.average_clustering(ER3))/3)"
   ]
  },
  {
   "cell_type": "code",
   "execution_count": 578,
   "metadata": {},
   "outputs": [
    {
     "name": "stdout",
     "output_type": "stream",
     "text": [
      "Average of pagerank for AD_real 0.0006784260515603843\n"
     ]
    }
   ],
   "source": [
    "a=nx.pagerank(G_s_ad, alpha=0.9)\n",
    "s = sorted(a.items(), key=lambda x: x[1], reverse=True)\n",
    "\n",
    "#for k, v in s:\n",
    "   # print(k, v)\n",
    "#average of pagerank for real AD network\n",
    "p=0\n",
    "for d in a.values():\n",
    "    p=p+d\n",
    "print('Average of pagerank for AD_real',p/len(a))     "
   ]
  },
  {
   "cell_type": "code",
   "execution_count": 579,
   "metadata": {},
   "outputs": [
    {
     "name": "stdout",
     "output_type": "stream",
     "text": [
      "Average of pagerank for AD_ER1 0.0006784260515603843\n"
     ]
    }
   ],
   "source": [
    "b1=nx.pagerank(ER1, alpha=0.9)\n",
    "d1= sorted(b1.items(), key=lambda x: x[1], reverse=True)\n",
    "\n",
    "#for k, v in d:\n",
    "    #print(k, v)\n",
    "#average of pagerank for real AD network\n",
    "p1=0\n",
    "for d in a.values():\n",
    "    p1=p1+d\n",
    "AvePageRank_ER1= p1/len(b1)   \n",
    "print('Average of pagerank for AD_ER1',AvePageRank_ER1)     "
   ]
  },
  {
   "cell_type": "code",
   "execution_count": 580,
   "metadata": {},
   "outputs": [
    {
     "name": "stdout",
     "output_type": "stream",
     "text": [
      "Average of pagerank for AD_ER2 0.0006784260515603843\n"
     ]
    }
   ],
   "source": [
    "b2=nx.pagerank(ER2, alpha=0.9)\n",
    "d2 = sorted(b2.items(), key=lambda x: x[1], reverse=True)\n",
    "\n",
    "#for k, v in d:\n",
    "    #print(k, v)\n",
    "#average of pagerank for real AD network\n",
    "p2=0\n",
    "for d in a.values():\n",
    "    p2=p2+d\n",
    "AvePageRank_ER2= p2/len(b2)   \n",
    "print('Average of pagerank for AD_ER2',AvePageRank_ER2) "
   ]
  },
  {
   "cell_type": "code",
   "execution_count": 581,
   "metadata": {},
   "outputs": [
    {
     "name": "stdout",
     "output_type": "stream",
     "text": [
      "Average of pagerank for AD_ER3 0.0006784260515603801\n"
     ]
    }
   ],
   "source": [
    "b3=nx.pagerank(ER3, alpha=0.9)\n",
    "d3 = sorted(b3.items(), key=lambda x: x[1], reverse=True)\n",
    "\n",
    "#for k, v in d:\n",
    "    #print(k, v)\n",
    "#average of pagerank for real AD network\n",
    "p3=0\n",
    "for d in b3.values():\n",
    "    p3=p3+d\n",
    "AvePageRank_ER3= p3/len(b3)   \n",
    "print('Average of pagerank for AD_ER3',AvePageRank_ER3)  "
   ]
  },
  {
   "cell_type": "code",
   "execution_count": 582,
   "metadata": {},
   "outputs": [
    {
     "name": "stdout",
     "output_type": "stream",
     "text": [
      "0.0006784260515603829\n"
     ]
    }
   ],
   "source": [
    "print((AvePageRank_ER3+AvePageRank_ER2+AvePageRank_ER1)/3)"
   ]
  },
  {
   "cell_type": "code",
   "execution_count": 583,
   "metadata": {},
   "outputs": [
    {
     "name": "stdout",
     "output_type": "stream",
     "text": [
      "Network density for AD: 0.0018146630299714168\n"
     ]
    }
   ],
   "source": [
    "density = nx.density(G_s_ad)\n",
    "print(\"Network density for AD:\", density)"
   ]
  },
  {
   "cell_type": "code",
   "execution_count": 584,
   "metadata": {},
   "outputs": [
    {
     "name": "stdout",
     "output_type": "stream",
     "text": [
      "Network density for erdos : 0.001815584178717595\n"
     ]
    }
   ],
   "source": [
    "density1 = nx.density(ER1)\n",
    "print(\"Network density for erdos :\", density1)"
   ]
  },
  {
   "cell_type": "code",
   "execution_count": 585,
   "metadata": {},
   "outputs": [
    {
     "name": "stdout",
     "output_type": "stream",
     "text": [
      "Network density for erdos : 0.001820189922448487\n"
     ]
    }
   ],
   "source": [
    "density2 = nx.density(ER2)\n",
    "print(\"Network density for erdos :\", density2)"
   ]
  },
  {
   "cell_type": "code",
   "execution_count": 586,
   "metadata": {},
   "outputs": [
    {
     "name": "stdout",
     "output_type": "stream",
     "text": [
      "Network density for erdos : 0.001817426476209952\n"
     ]
    }
   ],
   "source": [
    "density3 = nx.density(ER3)\n",
    "print(\"Network density for erdos :\", density3)"
   ]
  },
  {
   "cell_type": "code",
   "execution_count": 587,
   "metadata": {},
   "outputs": [
    {
     "name": "stdout",
     "output_type": "stream",
     "text": [
      "0.001817426476209952\n"
     ]
    }
   ],
   "source": [
    "print((density3+density3+density3)/3)"
   ]
  },
  {
   "cell_type": "code",
   "execution_count": 588,
   "metadata": {},
   "outputs": [
    {
     "name": "stdout",
     "output_type": "stream",
     "text": [
      "number of connected component in G_s_ad 103\n",
      "length of largest component 1237\n"
     ]
    }
   ],
   "source": [
    "# nx.connected_components to get the list of components,\n",
    "# then use the max() command to find the largest one:\n",
    "components = nx.connected_components(G_s_ad)\n",
    "largest_component = max(components, key=len)\n",
    "#largest_component\n",
    "components\n",
    "# returns number of different connected components \n",
    "print('number of connected component in G_s_ad',nx.number_connected_components(G_s_ad)) \n",
    "print('length of largest component',len(largest_component))"
   ]
  },
  {
   "cell_type": "code",
   "execution_count": 589,
   "metadata": {},
   "outputs": [
    {
     "name": "stdout",
     "output_type": "stream",
     "text": [
      "number of connected component in ER1 118\n",
      "length of largest component in ER1 1342\n"
     ]
    }
   ],
   "source": [
    "# nx.connected_components to get the list of components,\n",
    "# then use the max() command to find the largest one:\n",
    "components = nx.connected_components(ER1)\n",
    "largest_component = max(components, key=len)\n",
    "#largest_component\n",
    "components\n",
    "# returns number of different connected components \n",
    "print('number of connected component in ER1',nx.number_connected_components(ER1)) \n",
    "print('length of largest component in ER1',len(largest_component))"
   ]
  },
  {
   "cell_type": "code",
   "execution_count": 590,
   "metadata": {},
   "outputs": [
    {
     "name": "stdout",
     "output_type": "stream",
     "text": [
      "number of connected component in erdos2 113\n",
      "length of largest component in ER2 1345\n"
     ]
    }
   ],
   "source": [
    "# nx.connected_components to get the list of components,\n",
    "# then use the max() command to find the largest one:\n",
    "components = nx.connected_components(ER2)\n",
    "largest_component = max(components, key=len)\n",
    "#largest_component\n",
    "components\n",
    "# returns number of different connected components \n",
    "print('number of connected component in erdos2',nx.number_connected_components(ER2)) \n",
    "print('length of largest component in ER2', len(largest_component))"
   ]
  },
  {
   "cell_type": "code",
   "execution_count": 591,
   "metadata": {},
   "outputs": [
    {
     "name": "stdout",
     "output_type": "stream",
     "text": [
      "number of connected component in erdos3 127\n",
      "length of largest component in ER3 1332\n"
     ]
    }
   ],
   "source": [
    "# nx.connected_components to get the list of components,\n",
    "# then use the max() command to find the largest one:\n",
    "components = nx.connected_components(ER3)\n",
    "largest_component = max(components, key=len)\n",
    "#largest_component\n",
    "components\n",
    "# returns number of different connected components \n",
    "print('number of connected component in erdos3',nx.number_connected_components(ER3)) \n",
    "print('length of largest component in ER3', len(largest_component))"
   ]
  },
  {
   "cell_type": "code",
   "execution_count": null,
   "metadata": {},
   "outputs": [],
   "source": []
  },
  {
   "cell_type": "code",
   "execution_count": null,
   "metadata": {},
   "outputs": [],
   "source": []
  },
  {
   "cell_type": "code",
   "execution_count": null,
   "metadata": {},
   "outputs": [],
   "source": []
  },
  {
   "cell_type": "code",
   "execution_count": 592,
   "metadata": {},
   "outputs": [],
   "source": [
    "def getKeysByValue(dictOfElements, valueToFind):\n",
    "    listOfKeys = list()\n",
    "    listOfItems = dictOfElements.items()\n",
    "    for item  in listOfItems:\n",
    "        if item[1] <= valueToFind:\n",
    "            listOfKeys.append(item[0])\n",
    "    return  listOfKeys\n",
    "\n",
    "   "
   ]
  },
  {
   "cell_type": "code",
   "execution_count": 598,
   "metadata": {},
   "outputs": [],
   "source": [
    "#copy ERs and Sochi_ad\n",
    "G_s_ad_first_remove_nodes = G_s_ad.copy()\n",
    "ER1_first_remove_nodes = ER1.copy()\n",
    "ER2_first_remove_nodes=ER2.copy()\n",
    "ER3_first_remove_nodes=ER3.copy()"
   ]
  },
  {
   "cell_type": "code",
   "execution_count": 599,
   "metadata": {},
   "outputs": [],
   "source": [
    "#create dict from nodes of new graphs\n",
    "degree_dict_New_G_s_ad = dict(G_s_ad_first_remove_nodes.degree(G_s_ad_first_remove_nodes.nodes()))\n",
    "degree_dict_New_ER1 = dict(ER1_first_remove_nodes.degree(ER1_first_remove_nodes.nodes()))\n",
    "degree_dict_New_ER2 = dict(ER2_first_remove_nodes.degree(ER2_first_remove_nodes.nodes()))\n",
    "degree_dict_New_ER3 = dict(ER3_first_remove_nodes.degree(ER3_first_remove_nodes.nodes()))\n"
   ]
  },
  {
   "cell_type": "code",
   "execution_count": 600,
   "metadata": {},
   "outputs": [],
   "source": [
    "sorted_degree_New_AD = sorted(degree_dict_New_G_s_ad.items(), key=itemgetter(1), reverse=True)\n",
    "sorted_degree_New_ER1 = sorted(degree_dict_New_ER1.items(), key=itemgetter(1), reverse=True)\n",
    "sorted_degree_New_ER2 = sorted(degree_dict_New_ER2.items(), key=itemgetter(1), reverse=True)\n",
    "sorted_degree_New_ER3 = sorted(degree_dict_New_ER3.items(), key=itemgetter(1), reverse=True)\n"
   ]
  },
  {
   "cell_type": "code",
   "execution_count": 601,
   "metadata": {},
   "outputs": [],
   "source": [
    "#sorted_degree_New_ER3"
   ]
  },
  {
   "cell_type": "code",
   "execution_count": 602,
   "metadata": {},
   "outputs": [],
   "source": [
    "#Do the removal nodes of new graphs\n",
    "G_s_ad_first_remove_nodes.remove_nodes_from(getKeysByValue(degree_dict_New_G_s_ad,5))\n",
    "ER1_first_remove_nodes.remove_nodes_from(getKeysByValue(degree_dict_New_ER1,5))\n",
    "ER2_first_remove_nodes.remove_nodes_from(getKeysByValue(degree_dict_New_ER2,5))\n",
    "ER3_first_remove_nodes.remove_nodes_from(getKeysByValue(degree_dict_New_ER3,5))"
   ]
  },
  {
   "cell_type": "code",
   "execution_count": 603,
   "metadata": {},
   "outputs": [
    {
     "name": "stdout",
     "output_type": "stream",
     "text": [
      "Name: \n",
      "Type: Graph\n",
      "Number of nodes: 114\n",
      "Number of edges: 306\n",
      "Average degree:   5.3684\n"
     ]
    }
   ],
   "source": [
    "print(nx.info(G_s_ad_first_remove_nodes))"
   ]
  },
  {
   "cell_type": "code",
   "execution_count": 604,
   "metadata": {},
   "outputs": [
    {
     "name": "stdout",
     "output_type": "stream",
     "text": [
      "Name: \n",
      "Type: Graph\n",
      "Number of nodes: 101\n",
      "Number of edges: 60\n",
      "Average degree:   1.1881\n"
     ]
    }
   ],
   "source": [
    "print(nx.info(ER1_first_remove_nodes))"
   ]
  },
  {
   "cell_type": "code",
   "execution_count": 605,
   "metadata": {},
   "outputs": [
    {
     "name": "stdout",
     "output_type": "stream",
     "text": [
      "Name: \n",
      "Type: Graph\n",
      "Number of nodes: 95\n",
      "Number of edges: 47\n",
      "Average degree:   0.9895\n"
     ]
    }
   ],
   "source": [
    "print(nx.info(ER2_first_remove_nodes))"
   ]
  },
  {
   "cell_type": "code",
   "execution_count": 606,
   "metadata": {},
   "outputs": [
    {
     "name": "stdout",
     "output_type": "stream",
     "text": [
      "Name: \n",
      "Type: Graph\n",
      "Number of nodes: 89\n",
      "Number of edges: 41\n",
      "Average degree:   0.9213\n"
     ]
    }
   ],
   "source": [
    "print(nx.info(ER3_first_remove_nodes))"
   ]
  },
  {
   "cell_type": "code",
   "execution_count": 607,
   "metadata": {},
   "outputs": [
    {
     "name": "stdout",
     "output_type": "stream",
     "text": [
      "number of connected component in G_s_ad_first_remove_nodes 1\n",
      "length of largest component in G_s_ad_first_remove_nodes  114\n"
     ]
    }
   ],
   "source": [
    "# nx.connected_components to get the list of components,\n",
    "# then use the max() command to find the largest one:\n",
    "components = nx.connected_components(G_s_ad_first_remove_nodes)\n",
    "largest_component = max(components, key=len)\n",
    "#largest_component\n",
    "components\n",
    "# returns number of different connected components \n",
    "print('number of connected component in G_s_ad_first_remove_nodes',nx.number_connected_components(G_s_ad_first_remove_nodes)) \n",
    "print('length of largest component in G_s_ad_first_remove_nodes ',len(largest_component))"
   ]
  },
  {
   "cell_type": "code",
   "execution_count": 608,
   "metadata": {},
   "outputs": [
    {
     "name": "stdout",
     "output_type": "stream",
     "text": [
      "number of connected component in ER1_first_remove_nodes 41\n",
      "length of largest component in ER1_first_remove_nodes  27\n"
     ]
    }
   ],
   "source": [
    "# nx.connected_components to get the list of components,\n",
    "# then use the max() command to find the largest one:\n",
    "components = nx.connected_components(ER1_first_remove_nodes)\n",
    "largest_component = max(components, key=len)\n",
    "#largest_component\n",
    "components\n",
    "# returns number of different connected components \n",
    "print('number of connected component in ER1_first_remove_nodes',nx.number_connected_components(ER1_first_remove_nodes)) \n",
    "print('length of largest component in ER1_first_remove_nodes ',len(largest_component))"
   ]
  },
  {
   "cell_type": "code",
   "execution_count": 609,
   "metadata": {},
   "outputs": [
    {
     "name": "stdout",
     "output_type": "stream",
     "text": [
      "number of connected component in ER2_first_remove_nodes 48\n",
      "length of largest component in ER2_first_remove_nodes  24\n"
     ]
    }
   ],
   "source": [
    "# nx.connected_components to get the list of components,\n",
    "# then use the max() command to find the largest one:\n",
    "components = nx.connected_components(ER2_first_remove_nodes)\n",
    "largest_component = max(components, key=len)\n",
    "#largest_component\n",
    "components\n",
    "# returns number of different connected components \n",
    "print('number of connected component in ER2_first_remove_nodes',nx.number_connected_components(ER2_first_remove_nodes)) \n",
    "print('length of largest component in ER2_first_remove_nodes ',len(largest_component))"
   ]
  },
  {
   "cell_type": "code",
   "execution_count": 610,
   "metadata": {},
   "outputs": [
    {
     "name": "stdout",
     "output_type": "stream",
     "text": [
      "number of connected component in ER3_first_remove_nodes 48\n",
      "length of largest component in ER3_first_remove_nodes  7\n"
     ]
    }
   ],
   "source": [
    "# nx.connected_components to get the list of components,\n",
    "# then use the max() command to find the largest one:\n",
    "components = nx.connected_components(ER3_first_remove_nodes)\n",
    "largest_component = max(components, key=len)\n",
    "#largest_component\n",
    "components\n",
    "# returns number of different connected components \n",
    "print('number of connected component in ER3_first_remove_nodes',nx.number_connected_components(ER3_first_remove_nodes)) \n",
    "print('length of largest component in ER3_first_remove_nodes ',len(largest_component))"
   ]
  },
  {
   "cell_type": "code",
   "execution_count": 611,
   "metadata": {},
   "outputs": [
    {
     "name": "stdout",
     "output_type": "stream",
     "text": [
      "0.09319623957476326\n"
     ]
    }
   ],
   "source": [
    "print(nx.average_clustering(G_s_ad_first_remove_nodes))"
   ]
  },
  {
   "cell_type": "code",
   "execution_count": 612,
   "metadata": {},
   "outputs": [
    {
     "name": "stdout",
     "output_type": "stream",
     "text": [
      "0.0\n"
     ]
    }
   ],
   "source": [
    "print((nx.average_clustering(ER1_first_remove_nodes)+nx.average_clustering(ER2_first_remove_nodes)+nx.average_clustering(ER3_first_remove_nodes))/3)"
   ]
  },
  {
   "cell_type": "code",
   "execution_count": 613,
   "metadata": {},
   "outputs": [],
   "source": [
    "AD_Nodes=[797,1128,1268,1328,1360,1380,1369]"
   ]
  },
  {
   "cell_type": "code",
   "execution_count": 544,
   "metadata": {},
   "outputs": [],
   "source": [
    "AD_No_Component=[724,881,850,808,758,719,666]"
   ]
  },
  {
   "cell_type": "code",
   "execution_count": 515,
   "metadata": {},
   "outputs": [],
   "source": [
    "AD_Lengh_Component=[2,5,10,12,30,34,90]"
   ]
  },
  {
   "cell_type": "code",
   "execution_count": 516,
   "metadata": {},
   "outputs": [],
   "source": [
    "ER_Nodes=[382,738,1059,1278,1379,1441,1464]"
   ]
  },
  {
   "cell_type": "code",
   "execution_count": 517,
   "metadata": {},
   "outputs": [],
   "source": [
    "ER_No_Component=[371,608,572,294,181,137,123]"
   ]
  },
  {
   "cell_type": "code",
   "execution_count": 518,
   "metadata": {},
   "outputs": [],
   "source": [
    "ER_Lengh_Component=[2,4,21,790,1143,1282,1324]"
   ]
  },
  {
   "cell_type": "code",
   "execution_count": 519,
   "metadata": {},
   "outputs": [
    {
     "data": {
      "text/plain": [
       "<matplotlib.legend.Legend at 0x2e4b967ba48>"
      ]
     },
     "execution_count": 519,
     "metadata": {},
     "output_type": "execute_result"
    },
    {
     "data": {
      "image/png": "[encoded data removed]",
      "text/plain": [
       "<Figure size 432x288 with 1 Axes>"
      ]
     },
     "metadata": {
      "needs_background": "light"
     },
     "output_type": "display_data"
    }
   ],
   "source": [
    "plt.suptitle('length of largest component')\n",
    "plt.plot(AD_Nodes,AD_Lengh_Component, 'ro--',ER_Nodes, ER_Lengh_Component,'bo--')\n",
    "plt.xlabel('number of nodes')\n",
    "plt.ylabel('length of largest component')\n",
    "plt.grid(True)\n",
    "plt.legend(['Sochi_AD','ER'])\n"
   ]
  },
  {
   "cell_type": "code",
   "execution_count": 520,
   "metadata": {},
   "outputs": [
    {
     "data": {
      "text/plain": [
       "<matplotlib.legend.Legend at 0x2e4c20d9488>"
      ]
     },
     "execution_count": 520,
     "metadata": {},
     "output_type": "execute_result"
    },
    {
     "data": {
      "image/png": "[encoded data removed]",
      "text/plain": [
       "<Figure size 432x288 with 1 Axes>"
      ]
     },
     "metadata": {
      "needs_background": "light"
     },
     "output_type": "display_data"
    }
   ],
   "source": [
    "plt.suptitle('number of connected components')\n",
    "plt.plot(AD_Nodes,AD_No_Component,'ro--',ER_Nodes,ER_No_Component,'go--')\n",
    "plt.xlabel('number of nodes')\n",
    "plt.ylabel('number of components')\n",
    "plt.grid(True)\n",
    "plt.legend(['Sochi_AD','ER'])"
   ]
  },
  {
   "cell_type": "code",
   "execution_count": 521,
   "metadata": {},
   "outputs": [],
   "source": [
    "AD_Nodes_start_low=[61,77,94,114,146,206,346,677,1474]"
   ]
  },
  {
   "cell_type": "code",
   "execution_count": 522,
   "metadata": {},
   "outputs": [],
   "source": [
    "AD_SizeLargeComponent=[60,76,94,114,145,204,339,638,1237]"
   ]
  },
  {
   "cell_type": "code",
   "execution_count": 523,
   "metadata": {},
   "outputs": [],
   "source": [
    "AD_NoComponent_start_low=[2,2,1,1,2,3,7,30,103]"
   ]
  },
  {
   "cell_type": "code",
   "execution_count": 524,
   "metadata": {},
   "outputs": [],
   "source": [
    "AD_Ave_Clustring=[0.086,0.094,0.121,0.094,0.076,0.089,0.068,0.096,0.038]"
   ]
  },
  {
   "cell_type": "code",
   "execution_count": 525,
   "metadata": {},
   "outputs": [],
   "source": [
    "ER_Nodes_start_low=[1,10,32,95,196,415,736,1190,1369]"
   ]
  },
  {
   "cell_type": "code",
   "execution_count": 526,
   "metadata": {},
   "outputs": [],
   "source": [
    "ER_SizeLargeComponent=[1,2,5,19,138,386,729,1177,1340]"
   ]
  },
  {
   "cell_type": "code",
   "execution_count": 527,
   "metadata": {},
   "outputs": [],
   "source": [
    "ER_NoComponent_start_low=[1,8,22,46,42,23,8,8,15]"
   ]
  },
  {
   "cell_type": "code",
   "execution_count": 528,
   "metadata": {},
   "outputs": [],
   "source": [
    "ER_Ave_Clustring=[0,0,0,0,0.0026,0.0018,0.0019,0.0017,0.0014]"
   ]
  },
  {
   "cell_type": "code",
   "execution_count": 529,
   "metadata": {},
   "outputs": [
    {
     "data": {
      "text/plain": [
       "<matplotlib.legend.Legend at 0x2e4c1cf7808>"
      ]
     },
     "execution_count": 529,
     "metadata": {},
     "output_type": "execute_result"
    },
    {
     "data": {
      "image/png": "[encoded data removed]",
      "text/plain": [
       "<Figure size 432x288 with 1 Axes>"
      ]
     },
     "metadata": {
      "needs_background": "light"
     },
     "output_type": "display_data"
    }
   ],
   "source": [
    "plt.suptitle('length of largest component')\n",
    "plt.plot(AD_Nodes_start_low,AD_SizeLargeComponent, 'r*--',ER_Nodes_start_low, ER_SizeLargeComponent,'b*--')\n",
    "plt.xlabel('number of nodes')\n",
    "plt.ylabel('length of largest component')\n",
    "plt.grid(True)\n",
    "plt.legend(['Sochi_AD','ER'])"
   ]
  },
  {
   "cell_type": "code",
   "execution_count": 530,
   "metadata": {},
   "outputs": [
    {
     "data": {
      "text/plain": [
       "<matplotlib.legend.Legend at 0x2e4c204fdc8>"
      ]
     },
     "execution_count": 530,
     "metadata": {},
     "output_type": "execute_result"
    },
    {
     "data": {
      "image/png": "[encoded data removed]",
      "text/plain": [
       "<Figure size 432x288 with 1 Axes>"
      ]
     },
     "metadata": {
      "needs_background": "light"
     },
     "output_type": "display_data"
    }
   ],
   "source": [
    "plt.suptitle('number of connected components')\n",
    "plt.plot(AD_Nodes_start_low,AD_NoComponent_start_low,'r*--',ER_Nodes_start_low,ER_NoComponent_start_low,'b*--')\n",
    "plt.xlabel('number of nodes')\n",
    "plt.ylabel('number of components')\n",
    "plt.grid(True)\n",
    "plt.legend(['Sochi_AD','ER'])"
   ]
  },
  {
   "cell_type": "code",
   "execution_count": 531,
   "metadata": {},
   "outputs": [
    {
     "data": {
      "text/plain": [
       "<matplotlib.legend.Legend at 0x2e4c209d848>"
      ]
     },
     "execution_count": 531,
     "metadata": {},
     "output_type": "execute_result"
    },
    {
     "data": {
      "image/png": "[encoded data removed]",
      "text/plain": [
       "<Figure size 432x288 with 1 Axes>"
      ]
     },
     "metadata": {
      "needs_background": "light"
     },
     "output_type": "display_data"
    }
   ],
   "source": [
    "plt.suptitle('Average Clustring Coefficient')\n",
    "plt.plot(AD_Nodes_start_low,AD_Ave_Clustring,'ro--',ER_Nodes_start_low,ER_Ave_Clustring,'bo--')\n",
    "plt.xlabel('number of nodes')\n",
    "plt.ylabel('Ave.Clustring Coefficient')\n",
    "plt.grid(True)\n",
    "plt.legend(['Sochi_AD','ER'])"
   ]
  },
  {
   "cell_type": "code",
   "execution_count": null,
   "metadata": {},
   "outputs": [],
   "source": []
  },
  {
   "cell_type": "code",
   "execution_count": null,
   "metadata": {},
   "outputs": [],
   "source": []
  }
 ],
 "metadata": {
  "kernelspec": {
   "display_name": "Python 3",
   "language": "python",
   "name": "python3"
  },
  "language_info": {
   "codemirror_mode": {
    "name": "ipython",
    "version": 3
   },
   "file_extension": ".py",
   "mimetype": "text/x-python",
   "name": "python",
   "nbconvert_exporter": "python",
   "pygments_lexer": "ipython3",
   "version": "3.7.6"
  }
 },
 "nbformat": 4,
 "nbformat_minor": 4
}
